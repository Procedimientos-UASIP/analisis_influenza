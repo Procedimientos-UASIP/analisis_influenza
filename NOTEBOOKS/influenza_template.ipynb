{
 "cells": [
  {
   "cell_type": "markdown",
   "id": "c5c20f03",
   "metadata": {},
   "source": [
    "# NOTEBOOK PARA REALIZAR TODO EL ANÁLISIS DE SECUENCIACIÓN, ENSAMBLE Y ANÁLISIS DE GENOMAS DE VIRUS DE INFLUENZA\n",
    "\n"
   ]
  },
  {
   "cell_type": "markdown",
   "id": "db85c750",
   "metadata": {},
   "source": [
    "## LIMPIEZA DE ARCHIVOS FASTQ"
   ]
  },
  {
   "cell_type": "markdown",
   "id": "1aa1e7ce",
   "metadata": {},
   "source": [
    "Definir variables útiles"
   ]
  },
  {
   "cell_type": "code",
   "execution_count": null,
   "id": "cf8febb9",
   "metadata": {
    "vscode": {
     "languageId": "shellscript"
    }
   },
   "outputs": [],
   "source": [
    "MUESTRA=\"\"\n",
    "FASTQ1=\"\"\n",
    "FASTQ2=\"\""
   ]
  },
  {
   "cell_type": "markdown",
   "id": "b57aedba",
   "metadata": {},
   "source": [
    "Cambiar el directorio a la carpeta a procesar. Ya debe contener los archivos FASTQ a procesar. <span style=\"font-size: 150%; color: red;\"> **Modificar dirección si es necesario.**</span>"
   ]
  },
  {
   "cell_type": "code",
   "execution_count": null,
   "id": "aa946557",
   "metadata": {
    "vscode": {
     "languageId": "shellscript"
    }
   },
   "outputs": [],
   "source": [
    "cd /home/admcenapa/DAVID_RENDON/TRABAJO/2025/${MUESTRA}"
   ]
  },
  {
   "cell_type": "markdown",
   "id": "e91ec4f4",
   "metadata": {},
   "source": [
    "Crear un directorio para depositar el análisis de calidad de lecturas crudas.\n",
    "\n",
    "Crear una carpeta para depositar las lecturas crudas. Ahí se moverán los archivos con las lecturas crudos."
   ]
  },
  {
   "cell_type": "code",
   "execution_count": null,
   "id": "ffcb685f",
   "metadata": {
    "vscode": {
     "languageId": "shellscript"
    }
   },
   "outputs": [],
   "source": [
    "mkdir CALIDAD_CRUDA\n",
    "mkdir RAW\n",
    "mv CPA* ./RAW"
   ]
  },
  {
   "cell_type": "markdown",
   "id": "4ef4f8e7",
   "metadata": {
    "vscode": {
     "languageId": "shellscript"
    }
   },
   "source": [
    "Activar ambiente calidad"
   ]
  },
  {
   "cell_type": "code",
   "execution_count": null,
   "id": "80e52d37",
   "metadata": {
    "vscode": {
     "languageId": "shellscript"
    }
   },
   "outputs": [],
   "source": [
    "conda activate calidad"
   ]
  },
  {
   "cell_type": "markdown",
   "id": "a0e127a0",
   "metadata": {
    "vscode": {
     "languageId": "shellscript"
    }
   },
   "source": [
    "Ejectuar análisis de calidad inicial"
   ]
  },
  {
   "cell_type": "code",
   "execution_count": null,
   "id": "c21312ba",
   "metadata": {
    "vscode": {
     "languageId": "shellscript"
    }
   },
   "outputs": [],
   "source": [
    "fastqc ./RAW/${FASTQ1} ./RAW/${FASTQ2} --outdir ./CALIDAD_CRUDA --threads 20"
   ]
  },
  {
   "cell_type": "markdown",
   "id": "24e3d818",
   "metadata": {},
   "source": [
    "Revisar los archivos HTML de salida para identificar parámetros que ayuden a la limpieza. Esto se puede lograr transfiriendo los archivos HTML a una computadora local y visualizando en un navedador de internet.\n"
   ]
  },
  {
   "cell_type": "code",
   "execution_count": null,
   "id": "20552ebc",
   "metadata": {
    "vscode": {
     "languageId": "shellscript"
    }
   },
   "outputs": [],
   "source": [
    "# Descomentar y modificar si se realiza algun filtrado sobre los archivos crudos que cree otros archivos, para sobreescribir las variables con los archivos a usar:\n",
    "# FASTQ1=\"\"\n",
    "# FASTQ2=\"\""
   ]
  },
  {
   "cell_type": "markdown",
   "id": "d1d7fb94",
   "metadata": {},
   "source": [
    "Ejecutar el programa de limpieza. <span style=\"font-size: 150%; color: red;\"> **Ajustar parámetros de acuerdo a las necesidades.**</span> Cuidado al modificar los cores (ver documentación). Los resultados se guardarán en ./TRIMMING/"
   ]
  },
  {
   "cell_type": "code",
   "execution_count": null,
   "id": "d130f538",
   "metadata": {
    "vscode": {
     "languageId": "shellscript"
    }
   },
   "outputs": [],
   "source": [
    "trim_galore --paired --retain_unpaired --gzip --fastqc --cores 3 --clip_R1 18 --clip_R2 18 --three_prime_clip_R1 4 --three_prime_clip_R2 16 --length 120 -o TRIMMING/ ./RAW/${FASTQ1} ./RAW/${FASTQ2}"
   ]
  },
  {
   "cell_type": "markdown",
   "id": "683811b1",
   "metadata": {},
   "source": [
    "Revisar los archivos HTML de salida para verificar los resultados de la limpieza. Queda a consideración de la experiencia del usuario el quedar conforme con la limpieza realizada."
   ]
  },
  {
   "cell_type": "markdown",
   "id": "c8b164b4",
   "metadata": {},
   "source": [
    "## ALINEAMIENTO DE LECTURAS CONTRA BASE DE DATOS DE INFLUENZA"
   ]
  },
  {
   "cell_type": "markdown",
   "id": "eaa67181",
   "metadata": {},
   "source": [
    "Hacer directorio para los alineamientos:"
   ]
  },
  {
   "cell_type": "code",
   "execution_count": null,
   "id": "ecc3691a",
   "metadata": {
    "vscode": {
     "languageId": "shellscript"
    }
   },
   "outputs": [],
   "source": [
    "mkdir -p ALINEAMIENTO/BWA/ALL_SEGMENTS_MAPPING"
   ]
  },
  {
   "cell_type": "markdown",
   "id": "2e85c638",
   "metadata": {},
   "source": [
    "Usar nombres de archivos originales para dar con los nombres de archivos producidos por trim_galore"
   ]
  },
  {
   "cell_type": "code",
   "execution_count": null,
   "id": "20707e27",
   "metadata": {
    "vscode": {
     "languageId": "shellscript"
    }
   },
   "outputs": [],
   "source": [
    "FASTQ1_P=\"${FASTQ1/_filtered.fastq.gz/_filtered_val_1.fq.gz}\"\n",
    "FASTQ2_P=\"${FASTQ2/_filtered.fastq.gz/_filtered_val_2.fq.gz}\"\n",
    "FASTQ1_U=\"${FASTQ1/_filtered.fastq.gz/_filtered_unpaired_1.fq.gz}\"\n",
    "FASTQ2_U=\"${FASTQ2/_filtered.fastq.gz/_filtered_unpaired_2.fq.gz}\""
   ]
  },
  {
   "cell_type": "markdown",
   "id": "680649de",
   "metadata": {},
   "source": [
    "Crear ligas simbolicas a los archivos a usar:"
   ]
  },
  {
   "cell_type": "code",
   "execution_count": null,
   "id": "d4f86675",
   "metadata": {
    "vscode": {
     "languageId": "shellscript"
    }
   },
   "outputs": [],
   "source": [
    "ln -s TRIMMING/${FASTQ1_P} reads_r1_tr\n",
    "ln -s TRIMMING/${FASTQ2_P} reads_r2_tr\n",
    "ln -s TRIMMING/${FASTQ1_U} reads_u1_tr\n",
    "ln -s TRIMMING/${FASTQ2_U} reads_u2_tr"
   ]
  },
  {
   "cell_type": "markdown",
   "id": "0b87373f",
   "metadata": {},
   "source": [
    "Activar ambiente conda alineamiento"
   ]
  },
  {
   "cell_type": "code",
   "execution_count": null,
   "id": "adfa9d36",
   "metadata": {
    "vscode": {
     "languageId": "shellscript"
    }
   },
   "outputs": [],
   "source": [
    "conda activate alineamiento"
   ]
  },
  {
   "cell_type": "markdown",
   "id": "f89e5163",
   "metadata": {},
   "source": [
    "Hacer los alineamientos de las secuencias pareadas y no pareadas contra la base de datos viral preparada en la UASIP."
   ]
  },
  {
   "cell_type": "code",
   "execution_count": null,
   "id": "02f83e43",
   "metadata": {
    "vscode": {
     "languageId": "shellscript"
    }
   },
   "outputs": [],
   "source": [
    "#Alineamiento de secuencias pareadas \n",
    "bwa-mem2 mem -t 26 /backup/DATABASES/UASIP/BWAMEM2/INFLUENZA/influenza_db.fna reads_r1_tr reads_r2_tr >ALINEAMIENTO/BWA/ALL_SEGMENTS_MAPPING/paired.sam \n",
    "\n",
    "#Alineamiento de secuencias no pareadas de R1\n",
    "bwa-mem2 mem -t 26 /backup/DATABASES/UASIP/BWAMEM2/INFLUENZA/influenza_db.fna reads_u1_tr >ALINEAMIENTO/BWA/ALL_SEGMENTS_MAPPING/unpaired_r1.sam\n",
    "\n",
    "#Alineamiento de secuencias no pareadas de R2\n",
    "bwa-mem2 mem -t 26 /backup/DATABASES/UASIP/BWAMEM2/INFLUENZA/influenza_db.fna reads_u2_tr >ALINEAMIENTO/BWA/ALL_SEGMENTS_MAPPING/unpaired_r2.sam"
   ]
  },
  {
   "cell_type": "markdown",
   "id": "9f2c2a00",
   "metadata": {},
   "source": [
    "Entrar al directorio donde se depositaron los resultados del alineamiento, formatear los archivos sam resultantes en un archivo bam ordenado y regresar al directorio del proyecto."
   ]
  },
  {
   "cell_type": "code",
   "execution_count": null,
   "id": "d135c7ed",
   "metadata": {
    "vscode": {
     "languageId": "shellscript"
    }
   },
   "outputs": [],
   "source": [
    "cd ALINEAMIENTO/BWA/ALL_SEGMENTS_MAPPING \n",
    "samtools merge -u - paired.sam unpaired_r1.sam unpaired_r2.sam | samtools sort -o all_sorted.bam && rm paired.sam unpaired_r1.sam unpaired_r2.sam\n",
    "cd -"
   ]
  },
  {
   "cell_type": "markdown",
   "id": "44b9f148",
   "metadata": {},
   "source": [
    "Crear ocho directorios para depositar las lecturas por el segmento al cual alinearon."
   ]
  },
  {
   "cell_type": "code",
   "execution_count": null,
   "id": "f2bb6a3a",
   "metadata": {
    "vscode": {
     "languageId": "shellscript"
    }
   },
   "outputs": [],
   "source": [
    "mkdir ALINEAMIENTO/BWA/S{1..8}"
   ]
  },
  {
   "cell_type": "markdown",
   "id": "f3ff108c",
   "metadata": {},
   "source": [
    "Ejecutar el siguiente programa. Este programa abre el archivo bam, elimina alineamientos con alineamientos secundarios, y obtiene las lecturas por cada segmento. Se analiza, por segmento, el formato CIGAR asociado de cada lectura. Se filtran aquellas secuencias que alinearon en al menos 70% de sus bases. Se guardan los nombres de las lecturas pertinentes y se extraen las secuencias de los archivos fastq limpios usando dichos nombres. Los archivos producidos se guardan en las ubicaciones pertinentes."
   ]
  },
  {
   "cell_type": "code",
   "execution_count": null,
   "id": "cfc10685",
   "metadata": {
    "vscode": {
     "languageId": "shellscript"
    }
   },
   "outputs": [],
   "source": [
    "~/analisis_influenza/bin/separar_seqs_segmentos.sh"
   ]
  },
  {
   "cell_type": "markdown",
   "id": "e07c2f9f",
   "metadata": {},
   "source": [
    "## ENSAMBLE DE NOVO DE GENOMAS DE INFLUENZA"
   ]
  },
  {
   "cell_type": "markdown",
   "id": "97574aa9",
   "metadata": {},
   "source": [
    "Activa una terminal tmux para que se encargue de enviar los procesos aunque salgamos del servidor"
   ]
  },
  {
   "cell_type": "code",
   "execution_count": null,
   "id": "d6f1eb3f",
   "metadata": {
    "vscode": {
     "languageId": "shellscript"
    }
   },
   "outputs": [],
   "source": [
    "tmux new -s ensamble"
   ]
  },
  {
   "cell_type": "markdown",
   "id": "8e6a4b13",
   "metadata": {},
   "source": [
    "Pegar el siguiente código de instrucciones en la terminal tmux. <span style=\"font-size: 150%; color: red;\"> **Ajustar parámetros de acuerdo a las necesidades.**</span> Cuidado de pegar con tamaño de letra pequeño, si no, temux cambia de orden algunas instrucciones. Este paso está diseñado para ejecutarse sobre todos los segmentos virales. Es importante revisar cada archivo log de cada subcarpeta para verificar que se haya ejecutado todos los procesos, desde el kmer 11 al kmer 127. Se hace en terminal tmux para que el ciclo no caiga cuando se termine la conexion con el servidor. En caso de que el servidor se caiga y evite que algunos segmentos terminen de ensamblarse, modificar el ciclo for y volver a correr desde el segmento que quedó incompleto."
   ]
  },
  {
   "cell_type": "code",
   "execution_count": null,
   "id": "e6eaabd9",
   "metadata": {
    "vscode": {
     "languageId": "shellscript"
    }
   },
   "outputs": [],
   "source": [
    "for i in {1..8}\n",
    "do\n",
    "    ID=\"S${i}\"\n",
    "    id=\"s${i}\"\n",
    "    LOG=\"./ENSAMBLE/SPADES/${ID}/log_11_127_${ID}\"\n",
    "    mkdir -p \"./ENSAMBLE/SPADES/${ID}\"\n",
    "\n",
    "    TMP_SCRIPT=$(mktemp /tmp/run_${ID}_XXXXXX.sh)\n",
    "\n",
    "    cat > \"$TMP_SCRIPT\" <<EOF\n",
    "    #!/bin/bash\n",
    "\n",
    "    echo \"=== Iniciando proceso para ${ID} el \\$(date) ===\"  >> \"$LOG\"\n",
    "\n",
    "    ~/analisis_influenza/bin/ensamble.sh \\\\\n",
    "        -a \"./ALINEAMIENTO/BWA/${ID}/${id}_reads_r1.fq.gz\" \\\\\n",
    "        -b \"./ALINEAMIENTO/BWA/${ID}/${id}_reads_r2.fq.gz\" \\\\\n",
    "        -x \"./ALINEAMIENTO/BWA/${ID}/${id}_reads_u1.fq.gz\" \\\\\n",
    "        -y \"./ALINEAMIENTO/BWA/${ID}/${id}_reads_u2.fq.gz\" \\\\\n",
    "        -t 28 --kini 11 --kstep 4 --kfin 127 -o ./ENSAMBLE/SPADES/${ID}/OUT_11_127 >> \"$LOG\" 2>&1\n",
    "\n",
    "    echo \"=== Finalizando proceso para ${ID} el \\$(date) ===\"  >> \"$LOG\"\n",
    "\n",
    "    rm -- \"\\$0\"\n",
    "EOF\n",
    "\n",
    "    chmod +x \"$TMP_SCRIPT\"\n",
    "    nohup \"$TMP_SCRIPT\" &\n",
    "    wait\n",
    "done"
   ]
  },
  {
   "cell_type": "markdown",
   "id": "88f64afe",
   "metadata": {},
   "source": [
    "**Se puede cerrar sesion con Ctrl + B, y luego presionar D**. Para reconectar la terminal tmux usar: **tmux attach -t ensamble**"
   ]
  },
  {
   "cell_type": "markdown",
   "id": "138de61b",
   "metadata": {},
   "source": [
    "Continuar después de que el proceso anterior haya finalizado. Revisar que con ambiente alineamiento este activado y estar posicionados en la carpeta de trabajo."
   ]
  },
  {
   "cell_type": "code",
   "execution_count": null,
   "id": "a5ad9a58",
   "metadata": {
    "vscode": {
     "languageId": "shellscript"
    }
   },
   "outputs": [],
   "source": [
    "conda activate alineamiento\n",
    "cd /home/admcenapa/DAVID_RENDON/TRABAJO/2025/${MUESTRA}"
   ]
  },
  {
   "cell_type": "markdown",
   "id": "fb1650ee",
   "metadata": {},
   "source": [
    "Hacer loop para unir todos los resultados de blast (si se hizo por partes) y analizar los resultados, extraer secuencias, revisar orientacion y calcular profundidad."
   ]
  },
  {
   "cell_type": "code",
   "execution_count": null,
   "id": "8cc515b7",
   "metadata": {
    "vscode": {
     "languageId": "shellscript"
    }
   },
   "outputs": [],
   "source": [
    "for i in {1..8}; do\n",
    "    ID=\"S${i}\"\n",
    "\n",
    "    cd \"./ENSAMBLE/SPADES/${ID}\"\n",
    "\n",
    "    ~/analisis_influenza/bin/merge_blast_results.sh\n",
    "\n",
    "    ~/analisis_influenza/bin/ensamble_analyze_blast.sh ${ID}_blastn-careful_merged.txt\n",
    "    \n",
    "    cd -\n",
    "done\n",
    "\n",
    "cd \"./ENSAMBLE/SPADES/\" && cat S*/best_result_S*_blastn-careful_merged.txt >all_segm_best_result_blast.txt && cd -"
   ]
  },
  {
   "cell_type": "markdown",
   "id": "89a37ea1",
   "metadata": {},
   "source": [
    "Ingresar al directorio SPADES para los siguientes analisis"
   ]
  },
  {
   "cell_type": "code",
   "execution_count": null,
   "id": "add70f66",
   "metadata": {
    "vscode": {
     "languageId": "shellscript"
    }
   },
   "outputs": [],
   "source": [
    "cd ./ENSAMBLE/SPADES"
   ]
  },
  {
   "cell_type": "markdown",
   "id": "21ecf981",
   "metadata": {},
   "source": [
    "Obtener porcentajes de lecturas usadas por cada segmento"
   ]
  },
  {
   "cell_type": "code",
   "execution_count": null,
   "id": "16fe621c",
   "metadata": {
    "vscode": {
     "languageId": "shellscript"
    }
   },
   "outputs": [],
   "source": [
    "~/analisis_influenza/bin/unir_profundidades.sh \\\n",
    "    --S1 S1/PROFUNDIDAD/S1_profundidad \\\n",
    "    --S2 S2/PROFUNDIDAD/S2_profundidad \\\n",
    "    --S3 S3/PROFUNDIDAD/S3_profundidad \\\n",
    "    --S4 S4/PROFUNDIDAD/S4_profundidad \\\n",
    "    --S5 S5/PROFUNDIDAD/S5_profundidad \\\n",
    "    --S6 S6/PROFUNDIDAD/S6_profundidad \\\n",
    "    --S7 S7/PROFUNDIDAD/S7_profundidad \\\n",
    "    --S8 S8/PROFUNDIDAD/S8_profundidad\n",
    "\n",
    "~/analisis_influenza/bin/ensamble_cal_porc_lect_mapeadas.sh"
   ]
  },
  {
   "cell_type": "markdown",
   "id": "5663665d",
   "metadata": {},
   "source": [
    "Salir del ambiente alineamiento"
   ]
  },
  {
   "cell_type": "code",
   "execution_count": null,
   "id": "2e4f7932",
   "metadata": {
    "vscode": {
     "languageId": "shellscript"
    }
   },
   "outputs": [],
   "source": [
    "conda deactivate alineamiento"
   ]
  },
  {
   "cell_type": "markdown",
   "id": "9fd034f6",
   "metadata": {},
   "source": [
    "Activar ambiente R"
   ]
  },
  {
   "cell_type": "code",
   "execution_count": null,
   "id": "165fcc5a",
   "metadata": {
    "vscode": {
     "languageId": "shellscript"
    }
   },
   "outputs": [],
   "source": [
    "conda activate R"
   ]
  },
  {
   "cell_type": "markdown",
   "id": "1f75e2db",
   "metadata": {},
   "source": [
    "Graficar profundidades y uso de secuencias por segmento"
   ]
  },
  {
   "cell_type": "code",
   "execution_count": null,
   "id": "03567a0c",
   "metadata": {
    "vscode": {
     "languageId": "shellscript"
    }
   },
   "outputs": [],
   "source": [
    "~/analisis_influenza/bin/graficar_profundidad.R --input_file profundidades_finales.tsv --muestra ${MUESTRA}\n",
    "~/analisis_influenza/bin/graficar_lecturas.R --input_file uso_de_lecturas.tsv --muestra ${MUESTRA}"
   ]
  },
  {
   "cell_type": "markdown",
   "id": "fb4dc4d0",
   "metadata": {},
   "source": [
    "Desactivar ambiente R"
   ]
  },
  {
   "cell_type": "code",
   "execution_count": null,
   "id": "e4a53242",
   "metadata": {
    "vscode": {
     "languageId": "shellscript"
    }
   },
   "outputs": [],
   "source": [
    "conda deactivate"
   ]
  },
  {
   "cell_type": "markdown",
   "id": "c2be7b06",
   "metadata": {},
   "source": [
    "## ANALISIS DE SUPTIFICACIÓN"
   ]
  },
  {
   "cell_type": "markdown",
   "id": "3853b4be",
   "metadata": {},
   "source": [
    "Se debe hacer un análisis de subtipificación, donde se haga un conteo de los subtipos de cada subject alineado, y se obtenga una tabla con los mejores 5 subtipos."
   ]
  },
  {
   "cell_type": "code",
   "execution_count": null,
   "id": "b19ecbe7",
   "metadata": {
    "vscode": {
     "languageId": "shellscript"
    }
   },
   "outputs": [],
   "source": [
    "for i in {1..8}; do\n",
    "    \n",
    "    DIR_S=\"S${i}\"\n",
    "    cd ./${DIR_S}\n",
    "    \n",
    "    echo \"Ejecutando análisis de subtipificación para ${DIR_S}\"\n",
    "\n",
    "    ~/analisis_influenza/bin/analisis_subtipificacion.sh best_result_${DIR_S}_sequence_corrected.fna\n",
    "    \n",
    "    echo \" \"\n",
    "\n",
    "    cd -\n",
    "\n",
    "    (\n",
    "        echo \"Análisis de subtipificacion para ${DIR_S}\"\n",
    "        cat ./${DIR_S}/${DIR_S}_subtipos_top5.tsv\n",
    "        echo \"\"\n",
    "    ) >> \"analisis_subtipificacion.tsv\"\n",
    "done"
   ]
  },
  {
   "cell_type": "markdown",
   "id": "9cb4abcc",
   "metadata": {},
   "source": [
    "## ANALISIS DE PATOGENICIDAD\n",
    "\n",
    "Este análisis sólo se realiza sobre el S4. Cambiar de directorio."
   ]
  },
  {
   "cell_type": "code",
   "execution_count": null,
   "id": "1d589df3",
   "metadata": {
    "vscode": {
     "languageId": "shellscript"
    }
   },
   "outputs": [],
   "source": [
    "cd S4"
   ]
  },
  {
   "cell_type": "markdown",
   "id": "5fd4bc28",
   "metadata": {},
   "source": [
    "Revisar que en alguno de los marcos de lectura ya corregidos no existan, o existan pocos, codones de paro."
   ]
  },
  {
   "cell_type": "code",
   "execution_count": null,
   "id": "ed6ba38f",
   "metadata": {
    "vscode": {
     "languageId": "shellscript"
    }
   },
   "outputs": [],
   "source": [
    "seqkit translate best_result_S4_sequence_corrected.fna -f1,2,3 -F "
   ]
  },
  {
   "cell_type": "markdown",
   "id": "c9a46a52",
   "metadata": {},
   "source": [
    "Realizar el análisis de patogenicidad que buscará 4 o más residuos positivos entre el motivo PXnGLF (donde Xn son residuos positivos (K, H, R), principalmente). Se realiza sobre todos los marcos de lectura por si es necesario revisarlo."
   ]
  },
  {
   "cell_type": "code",
   "execution_count": null,
   "id": "8aa79456",
   "metadata": {
    "vscode": {
     "languageId": "shellscript"
    }
   },
   "outputs": [],
   "source": [
    "~/analisis_influenza/bin/analisis_patogenicidad.sh best_result_S4_sequence_corrected.fna >analisis_patogenicidad_S4.txt"
   ]
  },
  {
   "cell_type": "markdown",
   "id": "654f9535",
   "metadata": {},
   "source": [
    "Regresar al directorio del ensamblador"
   ]
  },
  {
   "cell_type": "code",
   "execution_count": null,
   "id": "7e91d678",
   "metadata": {
    "vscode": {
     "languageId": "shellscript"
    }
   },
   "outputs": [],
   "source": [
    "cd /home/admcenapa/DAVID_RENDON/TRABAJO/2025/${MUESTRA}/ENSAMBLE/SPADES"
   ]
  },
  {
   "cell_type": "markdown",
   "id": "88ea41ba",
   "metadata": {},
   "source": [
    "## PREPARAR FASTA FINAL\n",
    "\n",
    "Se ejecuta renombrar_fastas.sh para generar el fasta final"
   ]
  },
  {
   "cell_type": "code",
   "execution_count": null,
   "id": "8db95809",
   "metadata": {
    "vscode": {
     "languageId": "shellscript"
    }
   },
   "outputs": [],
   "source": [
    "~/analisis_influenza/bin/renombrar_fastas.sh --host NA --origin NA --year 2025"
   ]
  }
 ],
 "metadata": {
  "kernelspec": {
   "display_name": "Bash",
   "language": "bash",
   "name": "bash"
  },
  "language_info": {
   "codemirror_mode": "shell",
   "file_extension": ".sh",
   "mimetype": "text/x-sh",
   "name": "bash"
  }
 },
 "nbformat": 4,
 "nbformat_minor": 5
}
