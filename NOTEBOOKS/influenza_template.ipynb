{
 "cells": [
  {
   "cell_type": "markdown",
   "id": "c5c20f03",
   "metadata": {},
   "source": [
    "# **LIMPIEZA ENSAMBLE Y ANÁLISIS DE GENOMAS DE VIRUS DE INFLUENZA**"
   ]
  },
  {
   "cell_type": "markdown",
   "id": "db85c750",
   "metadata": {},
   "source": [
    "## **PREPARAR AMBIENTE INICIAL**\n",
    "\n",
    "Definir variables útiles, que corresponden al nombre de la muestra y a los nombres de los archivos fastq.gz"
   ]
  },
  {
   "cell_type": "code",
   "execution_count": null,
   "id": "cf8febb9",
   "metadata": {
    "vscode": {
     "languageId": "shellscript"
    }
   },
   "outputs": [],
   "source": [
    "MUESTRA=\"\"\n",
    "FASTQ1=\"\"\n",
    "FASTQ2=\"\""
   ]
  },
  {
   "cell_type": "markdown",
   "id": "b57aedba",
   "metadata": {},
   "source": [
    "Cambiar el directorio a la carpeta a procesar. Ya debe contener los archivos FASTQ a procesar. <span style=\"font-size: 150%; color: red;\"> **Modificar dirección.**</span>"
   ]
  },
  {
   "cell_type": "code",
   "execution_count": null,
   "id": "aa946557",
   "metadata": {
    "vscode": {
     "languageId": "shellscript"
    }
   },
   "outputs": [],
   "source": [
    "cd /home/admcenapa/DAVID_RENDON/TRABAJO/2025/${MUESTRA}"
   ]
  },
  {
   "cell_type": "markdown",
   "id": "e91ec4f4",
   "metadata": {},
   "source": [
    "Crear un directorio para depositar el análisis de calidad de lecturas crudas, y una carpeta para depositar las lecturas crudas. Mover ahí los archivos con las lecturas crudas:"
   ]
  },
  {
   "cell_type": "code",
   "execution_count": null,
   "id": "ffcb685f",
   "metadata": {
    "vscode": {
     "languageId": "shellscript"
    }
   },
   "outputs": [],
   "source": [
    "mkdir CALIDAD_CRUDA\n",
    "mkdir RAW\n",
    "mv CPA* ./RAW"
   ]
  },
  {
   "cell_type": "markdown",
   "id": "a0e127a0",
   "metadata": {
    "vscode": {
     "languageId": "shellscript"
    }
   },
   "source": [
    "## **LIMPIEZA DE ARCHIVOS FASTQ**\n",
    "\n",
    "Ejectuar análisis de calidad inicial:"
   ]
  },
  {
   "cell_type": "code",
   "execution_count": null,
   "id": "c21312ba",
   "metadata": {
    "vscode": {
     "languageId": "shellscript"
    }
   },
   "outputs": [],
   "source": [
    "conda activate calidad\n",
    "fastqc ./RAW/${FASTQ1} ./RAW/${FASTQ2} --outdir ./CALIDAD_CRUDA --threads 20"
   ]
  },
  {
   "cell_type": "markdown",
   "id": "24e3d818",
   "metadata": {},
   "source": [
    "Revisar los archivos HTML de salida para identificar parámetros que ayuden a la limpieza. Esto se puede lograr transfiriendo los archivos HTML a una computadora local y visualizando en un navedador de internet.\n",
    "\n",
    "En caso de requerir limpiar los archivos crudos manualmente, se puede usar lo siguiente:"
   ]
  },
  {
   "cell_type": "code",
   "execution_count": null,
   "id": "20552ebc",
   "metadata": {
    "vscode": {
     "languageId": "shellscript"
    }
   },
   "outputs": [],
   "source": [
    "# Descomentar y modificar para eliminar mosaicos completos:\n",
    "# seqkit grep -v -r -p [Patron por ejemplo: ':2110:'] [Archivo_R1] | pigz --best -p26 >[Archivo_R1_filtrado]\n",
    "# seqkit grep -v -r -p [Patron por ejemplo: ':2110:'] [Archivo_R2] | pigz --best -p26 >[Archivo_R2_filtrado]\n",
    "\n",
    "# Descomentar y modificar para sobreescribir las variables con los archivos a usar:\n",
    "# FASTQ1=\"\"\n",
    "# FASTQ2=\"\""
   ]
  },
  {
   "cell_type": "markdown",
   "id": "d1d7fb94",
   "metadata": {},
   "source": [
    "Ejecutar el programa de limpieza. <span style=\"font-size: 150%; color: red;\"> **Ajustar parámetros de acuerdo a las necesidades.**</span> Cuidado al modificar los cores (ver documentación de trim_galore)."
   ]
  },
  {
   "cell_type": "code",
   "execution_count": null,
   "id": "d130f538",
   "metadata": {
    "vscode": {
     "languageId": "shellscript"
    }
   },
   "outputs": [],
   "source": [
    "trim_galore --paired --retain_unpaired --gzip --fastqc --cores 3 --clip_R1 18 --clip_R2 18 --three_prime_clip_R1 4 --three_prime_clip_R2 16 --length 120 -o TRIMMING/ ./RAW/${FASTQ1} ./RAW/${FASTQ2}"
   ]
  },
  {
   "cell_type": "markdown",
   "id": "683811b1",
   "metadata": {},
   "source": [
    "Revisar los archivos HTML de salida para verificar los resultados de la limpieza. Queda a consideración de la experiencia del usuario el quedar conforme con la limpieza realizada.\n",
    "\n",
    "Desactivar ambiente calidad"
   ]
  },
  {
   "cell_type": "code",
   "execution_count": null,
   "id": "451db471",
   "metadata": {
    "vscode": {
     "languageId": "shellscript"
    }
   },
   "outputs": [],
   "source": [
    "conda deactivate calidad"
   ]
  },
  {
   "cell_type": "markdown",
   "id": "c8b164b4",
   "metadata": {},
   "source": [
    "## **PREPARAR LIGAS A ARCHIVOS A USAR**"
   ]
  },
  {
   "cell_type": "markdown",
   "id": "2e85c638",
   "metadata": {},
   "source": [
    "Encontrar la direccion de los archivos generados por trim galore:"
   ]
  },
  {
   "cell_type": "code",
   "execution_count": null,
   "id": "20707e27",
   "metadata": {
    "vscode": {
     "languageId": "shellscript"
    }
   },
   "outputs": [],
   "source": [
    "FASTQ1_P=$(find TRIMMING/ -type f -name \"*val_1.fq.gz\")\n",
    "FASTQ2_P=$(find TRIMMING/ -type f -name \"*val_2.fq.gz\")\n",
    "FASTQ1_U=$(find TRIMMING/ -type f -name \"*unpaired_1.fq.gz\")\n",
    "FASTQ2_U=$(find TRIMMING/ -type f -name \"*unpaired_2.fq.gz\")"
   ]
  },
  {
   "cell_type": "markdown",
   "id": "680649de",
   "metadata": {},
   "source": [
    "Crear ligas simbolicas a los archivos a usar:"
   ]
  },
  {
   "cell_type": "code",
   "execution_count": null,
   "id": "d4f86675",
   "metadata": {
    "vscode": {
     "languageId": "shellscript"
    }
   },
   "outputs": [],
   "source": [
    "ln -s ${FASTQ1_P} reads_r1_tr\n",
    "ln -s ${FASTQ2_P} reads_r2_tr\n",
    "ln -s ${FASTQ1_U} reads_u1_tr\n",
    "ln -s ${FASTQ2_U} reads_u2_tr"
   ]
  },
  {
   "cell_type": "markdown",
   "id": "50fd623a",
   "metadata": {},
   "source": [
    "## **ALINEAMIENTO DE LECTURAS CONTRA BASE DE DATOS DE INFLUENZA Y FILTRADO**"
   ]
  },
  {
   "cell_type": "markdown",
   "id": "4636b913",
   "metadata": {},
   "source": [
    "Crear directorio para los alineamientos:"
   ]
  },
  {
   "cell_type": "code",
   "execution_count": null,
   "id": "f577f636",
   "metadata": {
    "vscode": {
     "languageId": "shellscript"
    }
   },
   "outputs": [],
   "source": [
    "mkdir -p ALINEAMIENTO/BWA/ALL_SEGMENTS_MAPPING"
   ]
  },
  {
   "cell_type": "markdown",
   "id": "0b87373f",
   "metadata": {},
   "source": [
    "Activar ambiente conda alineamiento"
   ]
  },
  {
   "cell_type": "code",
   "execution_count": null,
   "id": "adfa9d36",
   "metadata": {
    "vscode": {
     "languageId": "shellscript"
    }
   },
   "outputs": [],
   "source": [
    "conda activate alineamiento"
   ]
  },
  {
   "cell_type": "markdown",
   "id": "f89e5163",
   "metadata": {},
   "source": [
    "Hacer los alineamientos de las secuencias pareadas y no pareadas contra la base de datos viral preparada en la UASIP."
   ]
  },
  {
   "cell_type": "code",
   "execution_count": null,
   "id": "02f83e43",
   "metadata": {
    "vscode": {
     "languageId": "shellscript"
    }
   },
   "outputs": [],
   "source": [
    "#Alineamiento de secuencias pareadas \n",
    "bwa-mem2 mem -t 26 /backup/DATABASES/UASIP/BWAMEM2/INFLUENZA/influenza_db.fna reads_r1_tr reads_r2_tr >ALINEAMIENTO/BWA/ALL_SEGMENTS_MAPPING/paired.sam \n",
    "\n",
    "#Alineamiento de secuencias no pareadas de R1\n",
    "bwa-mem2 mem -t 26 /backup/DATABASES/UASIP/BWAMEM2/INFLUENZA/influenza_db.fna reads_u1_tr >ALINEAMIENTO/BWA/ALL_SEGMENTS_MAPPING/unpaired_r1.sam\n",
    "\n",
    "#Alineamiento de secuencias no pareadas de R2\n",
    "bwa-mem2 mem -t 26 /backup/DATABASES/UASIP/BWAMEM2/INFLUENZA/influenza_db.fna reads_u2_tr >ALINEAMIENTO/BWA/ALL_SEGMENTS_MAPPING/unpaired_r2.sam"
   ]
  },
  {
   "cell_type": "markdown",
   "id": "9f2c2a00",
   "metadata": {},
   "source": [
    "Entrar al directorio donde se depositaron los resultados del alineamiento, formatear los archivos sam resultantes en un archivo bam ordenado y regresar al directorio del proyecto."
   ]
  },
  {
   "cell_type": "code",
   "execution_count": null,
   "id": "d135c7ed",
   "metadata": {
    "vscode": {
     "languageId": "shellscript"
    }
   },
   "outputs": [],
   "source": [
    "cd ALINEAMIENTO/BWA/ALL_SEGMENTS_MAPPING \n",
    "samtools merge -u - paired.sam unpaired_r1.sam unpaired_r2.sam | samtools sort -o all_sorted.bam && rm paired.sam unpaired_r1.sam unpaired_r2.sam\n",
    "cd -"
   ]
  },
  {
   "cell_type": "markdown",
   "id": "44b9f148",
   "metadata": {},
   "source": [
    "Crear ocho directorios para depositar las lecturas por el segmento al cual alinearon."
   ]
  },
  {
   "cell_type": "code",
   "execution_count": null,
   "id": "f2bb6a3a",
   "metadata": {
    "vscode": {
     "languageId": "shellscript"
    }
   },
   "outputs": [],
   "source": [
    "mkdir ALINEAMIENTO/BWA/S{1..8}"
   ]
  },
  {
   "cell_type": "markdown",
   "id": "f3ff108c",
   "metadata": {},
   "source": [
    "Ejecutar el siguiente programa. Este programa abre el archivo bam, elimina alineamientos con alineamientos secundarios, y obtiene las lecturas por cada segmento. Se analiza, por segmento, el formato CIGAR asociado de cada lectura. Se filtran aquellas secuencias que alinearon en al menos 70% de sus bases. Se guardan los nombres de las lecturas pertinentes y se extraen las secuencias de los archivos fastq limpios usando dichos nombres. Los archivos producidos se guardan en las ubicaciones pertinentes."
   ]
  },
  {
   "cell_type": "code",
   "execution_count": null,
   "id": "cfc10685",
   "metadata": {
    "vscode": {
     "languageId": "shellscript"
    }
   },
   "outputs": [],
   "source": [
    "~/analisis_influenza/bin/separar_seqs_segmentos.sh"
   ]
  },
  {
   "cell_type": "markdown",
   "id": "3dfdd296",
   "metadata": {},
   "source": [
    "Desactivar ambiente alineamiento"
   ]
  },
  {
   "cell_type": "code",
   "execution_count": null,
   "id": "758a0ece",
   "metadata": {
    "vscode": {
     "languageId": "shellscript"
    }
   },
   "outputs": [],
   "source": [
    "conda deactivate alineamiento"
   ]
  },
  {
   "cell_type": "markdown",
   "id": "e07c2f9f",
   "metadata": {},
   "source": [
    "## **ENSAMBLE DE NOVO DE GENOMAS**"
   ]
  },
  {
   "cell_type": "markdown",
   "id": "97574aa9",
   "metadata": {},
   "source": [
    "Activa una terminal tmux para que se encargue de enviar los procesos aunque salgamos del servidor"
   ]
  },
  {
   "cell_type": "code",
   "execution_count": null,
   "id": "d6f1eb3f",
   "metadata": {
    "vscode": {
     "languageId": "shellscript"
    }
   },
   "outputs": [],
   "source": [
    "tmux new -s ensamble"
   ]
  },
  {
   "cell_type": "markdown",
   "id": "8e6a4b13",
   "metadata": {},
   "source": [
    "Pegar el siguiente código de instrucciones en la terminal tmux. <span style=\"font-size: 150%; color: red;\"> **Ajustar parámetros de acuerdo a las necesidades.**</span> Cuidado de pegar con tamaño de letra pequeño, si no, temux cambia de orden algunas instrucciones. Este paso está diseñado para ejecutarse sobre todos los segmentos virales. Es importante revisar cada archivo log de cada subcarpeta para verificar que se haya ejecutado todos los procesos, desde el kmer 11 al kmer 127. Se hace en terminal tmux para que el ciclo no caiga cuando se termine la conexion con el servidor. En caso de que el servidor se caiga y evite que algunos segmentos terminen de ensamblarse, modificar el ciclo for y volver a correr desde el segmento que quedó incompleto."
   ]
  },
  {
   "cell_type": "code",
   "execution_count": null,
   "id": "e6eaabd9",
   "metadata": {
    "vscode": {
     "languageId": "shellscript"
    }
   },
   "outputs": [],
   "source": [
    "for i in {1..8}\n",
    "do\n",
    "    ID=\"S${i}\"\n",
    "    id=\"s${i}\"\n",
    "    LOG=\"./ENSAMBLE/SPADES/${ID}/log_11_127_${ID}\"\n",
    "    mkdir -p \"./ENSAMBLE/SPADES/${ID}\"\n",
    "\n",
    "    TMP_SCRIPT=$(mktemp /tmp/run_${ID}_XXXXXX.sh)\n",
    "\n",
    "    cat > \"$TMP_SCRIPT\" <<EOF\n",
    "    #!/bin/bash\n",
    "\n",
    "    echo \"=== Iniciando proceso para ${ID} el \\$(date) ===\"  >> \"$LOG\"\n",
    "\n",
    "    ~/analisis_influenza/bin/ensamble.sh \\\\\n",
    "        -a \"./ALINEAMIENTO/BWA/${ID}/${id}_reads_r1.fq.gz\" \\\\\n",
    "        -b \"./ALINEAMIENTO/BWA/${ID}/${id}_reads_r2.fq.gz\" \\\\\n",
    "        -x \"./ALINEAMIENTO/BWA/${ID}/${id}_reads_u1.fq.gz\" \\\\\n",
    "        -y \"./ALINEAMIENTO/BWA/${ID}/${id}_reads_u2.fq.gz\" \\\\\n",
    "        -t 28 --kini 11 --kstep 2 --kfin 127 -o ./ENSAMBLE/SPADES/${ID}/OUT_11_127 >> \"$LOG\" 2>&1\n",
    "\n",
    "    echo \"=== Finalizando proceso para ${ID} el \\$(date) ===\"  >> \"$LOG\"\n",
    "\n",
    "    rm -- \"\\$0\"\n",
    "EOF\n",
    "\n",
    "    chmod +x \"$TMP_SCRIPT\"\n",
    "    nohup \"$TMP_SCRIPT\" &\n",
    "    wait\n",
    "done"
   ]
  },
  {
   "cell_type": "markdown",
   "id": "88f64afe",
   "metadata": {},
   "source": [
    "Se puede cerrar sesion con Ctrl + B, y luego presionar D. Para reconectar la terminal tmux usar:"
   ]
  },
  {
   "cell_type": "code",
   "execution_count": null,
   "id": "38872324",
   "metadata": {
    "vscode": {
     "languageId": "shellscript"
    }
   },
   "outputs": [],
   "source": [
    "tmux attach -t ensamble"
   ]
  },
  {
   "cell_type": "markdown",
   "id": "00e26d3d",
   "metadata": {},
   "source": [
    "<span style=\"font-size: 150%; color: gold;\"> Revisar el archivo scaffolds.fasta del kmer donde se obtuvo la secuencia más larga. Usar NCBI y Expasy. Se debe poder detectar un CDS completo.</span>"
   ]
  },
  {
   "cell_type": "markdown",
   "id": "b109b51c",
   "metadata": {},
   "source": [
    "## **ENSAMBLE CON CONTIGS CONFIABLES**\n",
    "\n",
    "En caso de que el ensamblaje no haya logrado abarcar todo el CDS (longitud menor que la esperada mínima), se puede optar por realizar un reensamblaje con el archivo que especifique un contig confiable el cual será la secuencia más larga que se pudo ensamblar. Se deben revisar los análisis que arrojan las instrucciones anteriores y en funcion de eso determinar cual y donde se creará el archivo de contigs confiable. Se puede usar la siguiente instruccion:"
   ]
  },
  {
   "cell_type": "code",
   "execution_count": null,
   "id": "73e7e84f",
   "metadata": {
    "vscode": {
     "languageId": "shellscript"
    }
   },
   "outputs": [],
   "source": [
    "# Descomentar y modificar de acuerdo a necesidades\n",
    "# seqkit head -n1 ./ENSAMBLE/SPADES/[SEGMENTO]/OUT_11_127/[KMER]/scaffolds.fasta >./ENSAMBLE/SPADES/[SEGMENTO]/OUT_11_127/[KMER]/trusted.fasta"
   ]
  },
  {
   "cell_type": "markdown",
   "id": "b35b9fb0",
   "metadata": {},
   "source": [
    "Una vez identificado creado el archivo de contig confiable, modificar el script siguiente de acuerdo a las necesidades.  \n",
    "<span style=\"font-size: 150%; color: red;\"> **Revisar con cuidado el segmento a ensamblar y la dirección del archivo trusted.**</span>"
   ]
  },
  {
   "cell_type": "code",
   "execution_count": null,
   "id": "8c173557",
   "metadata": {
    "vscode": {
     "languageId": "shellscript"
    }
   },
   "outputs": [],
   "source": [
    "for i in 1 # Especificar segmento a ensamblar\n",
    "do\n",
    "    ID=\"S${i}\"\n",
    "    id=\"s${i}\"\n",
    "    LOG=\"./ENSAMBLE/SPADES/TRUSTED/${ID}/log_11_127_${ID}\"\n",
    "    mkdir -p \"./ENSAMBLE/SPADES/TRUSTED/${ID}\"\n",
    "\n",
    "    TMP_SCRIPT=$(mktemp /tmp/run_${ID}_XXXXXX.sh)\n",
    "\n",
    "    cat > \"$TMP_SCRIPT\" <<EOF\n",
    "    #!/bin/bash\n",
    "\n",
    "    echo \"=== Iniciando proceso para ${ID} el \\$(date) ===\"  >> \"$LOG\"\n",
    "\n",
    "    ~/analisis_influenza/bin/ensamble.sh \\\\\n",
    "        -a \"./ALINEAMIENTO/BWA/${ID}/${id}_reads_r1.fq.gz\" \\\\\n",
    "        -b \"./ALINEAMIENTO/BWA/${ID}/${id}_reads_r2.fq.gz\" \\\\\n",
    "        -x \"./ALINEAMIENTO/BWA/${ID}/${id}_reads_u1.fq.gz\" \\\\\n",
    "        -y \"./ALINEAMIENTO/BWA/${ID}/${id}_reads_u2.fq.gz\" \\\\\n",
    "        --trusted ./ENSAMBLE/SPADES/${ID}/OUT_11_127/K127/trusted.fasta \\\\ # ¡¡¡REVISAR LA DIRECCIÓN!!!\n",
    "        -t 28 --kini 11 --kstep 2 --kfin 127 -o ./ENSAMBLE/SPADES/TRUSTED/${ID}/OUT_11_127 >> \"$LOG\" 2>&1\n",
    "\n",
    "    echo \"=== Finalizando proceso para ${ID} el \\$(date) ===\"  >> \"$LOG\"\n",
    "\n",
    "    rm -- \"\\$0\"\n",
    "EOF\n",
    "\n",
    "    chmod +x \"$TMP_SCRIPT\"\n",
    "    nohup \"$TMP_SCRIPT\" &\n",
    "    wait\n",
    "done"
   ]
  },
  {
   "cell_type": "markdown",
   "id": "f774a1d5",
   "metadata": {},
   "source": [
    "<hr style=\"border: none; height: 5px; background-color: gold\">"
   ]
  },
  {
   "cell_type": "markdown",
   "id": "d1bdf84c",
   "metadata": {},
   "source": [
    "Los procesos anteriores pueden continuar durante la noche, asi es que <span style=\"font-size: 150%; color: gold\"> es importante recargar variables iniciales, la posicion de trabajo y activar el ambiente alineamiento: </span>"
   ]
  },
  {
   "cell_type": "code",
   "execution_count": null,
   "id": "a5ad9a58",
   "metadata": {
    "vscode": {
     "languageId": "shellscript"
    }
   },
   "outputs": [],
   "source": [
    "conda activate alineamiento\n",
    "cd /home/admcenapa/DAVID_RENDON/TRABAJO/2025/${MUESTRA}"
   ]
  },
  {
   "cell_type": "markdown",
   "id": "fb1650ee",
   "metadata": {},
   "source": [
    "## **PREPARACION DE ARCHIVO DE RESULTADOS DE ENSAMBLE Y BLAST, Y CALCULAR PROFUNDIDADES**\n",
    "\n",
    "Hacer loop para unir todos los resultados de blast (si se hizo por partes) y analizar los resultados, extraer secuencias, revisar orientacion y calcular profundidad:"
   ]
  },
  {
   "cell_type": "code",
   "execution_count": null,
   "id": "8cc515b7",
   "metadata": {
    "vscode": {
     "languageId": "shellscript"
    }
   },
   "outputs": [],
   "source": [
    "# Columnas deben ser similares a los archivos producidos en ensamble_analyze_blast\n",
    "echo -e \"SEGMENT\\\n",
    "\\tKMER\\\n",
    "\\tNODE\\\n",
    "\\tLENGTH\\\n",
    "\\tSLEN\\\n",
    "\\tPERCENTAGE\\\n",
    "\\tCOV\\\n",
    "\\tSUBJECT_STRAND\\\n",
    "\\tBLAST_REFERENCE\\\n",
    "\\tBLAST_DESCRIPTION\" >./ENSAMBLE/SPADES/all_segm_best_result_blast.txt\n",
    "\n",
    "for i in {1..8}; do\n",
    "    ID=\"S${i}\"\n",
    "\n",
    "    cd \"./ENSAMBLE/SPADES/${ID}\"\n",
    "\n",
    "    ~/analisis_influenza/bin/merge_blast_results.sh\n",
    "\n",
    "    ~/analisis_influenza/bin/ensamble_analyze_blast.sh ${ID}_blastn-careful_merged.txt\n",
    "    \n",
    "    sed -n '2p' best_result_${ID}_blastn-careful_merged.txt >>../all_segm_best_result_blast.txt\n",
    "\n",
    "    cd -\n",
    "done\n"
   ]
  },
  {
   "cell_type": "markdown",
   "id": "89a37ea1",
   "metadata": {},
   "source": [
    "Ingresar al directorio SPADES para los siguientes analisis:"
   ]
  },
  {
   "cell_type": "code",
   "execution_count": null,
   "id": "add70f66",
   "metadata": {
    "vscode": {
     "languageId": "shellscript"
    }
   },
   "outputs": [],
   "source": [
    "cd ./ENSAMBLE/SPADES"
   ]
  },
  {
   "cell_type": "markdown",
   "id": "21ecf981",
   "metadata": {},
   "source": [
    "Obtener porcentajes de lecturas usadas por cada segmento:"
   ]
  },
  {
   "cell_type": "code",
   "execution_count": null,
   "id": "16fe621c",
   "metadata": {
    "vscode": {
     "languageId": "shellscript"
    }
   },
   "outputs": [],
   "source": [
    "~/analisis_influenza/bin/unir_profundidades.sh \\\n",
    "    --S1 S1/PROFUNDIDAD/S1_profundidad \\\n",
    "    --S2 S2/PROFUNDIDAD/S2_profundidad \\\n",
    "    --S3 S3/PROFUNDIDAD/S3_profundidad \\\n",
    "    --S4 S4/PROFUNDIDAD/S4_profundidad \\\n",
    "    --S5 S5/PROFUNDIDAD/S5_profundidad \\\n",
    "    --S6 S6/PROFUNDIDAD/S6_profundidad \\\n",
    "    --S7 S7/PROFUNDIDAD/S7_profundidad \\\n",
    "    --S8 S8/PROFUNDIDAD/S8_profundidad\n",
    "\n",
    "mv prof.tsv ${MUESTRA}_prof.tsv\n",
    "\n",
    "~/analisis_influenza/bin/ensamble_cal_porc_lect_mapeadas.sh"
   ]
  },
  {
   "cell_type": "markdown",
   "id": "5663665d",
   "metadata": {},
   "source": [
    "Salir del ambiente alineamiento:"
   ]
  },
  {
   "cell_type": "code",
   "execution_count": null,
   "id": "2e4f7932",
   "metadata": {
    "vscode": {
     "languageId": "shellscript"
    }
   },
   "outputs": [],
   "source": [
    "conda deactivate alineamiento"
   ]
  },
  {
   "cell_type": "markdown",
   "id": "1272a382",
   "metadata": {
    "vscode": {
     "languageId": "shellscript"
    }
   },
   "source": [
    "## **GRAFICAR PROFUNDIDADES Y USO DE SECUENCIAS POR SEGMENTO**"
   ]
  },
  {
   "cell_type": "code",
   "execution_count": null,
   "id": "03567a0c",
   "metadata": {
    "vscode": {
     "languageId": "shellscript"
    }
   },
   "outputs": [],
   "source": [
    "conda activate R\n",
    "~/analisis_influenza/bin/graficar_profundidad.R --input_file ${MUESTRA}_prof.tsv --muestra ${MUESTRA}\n",
    "~/analisis_influenza/bin/graficar_lecturas.R --input_file uso_de_lecturas.tsv --muestra ${MUESTRA}\n",
    "conda deactivate"
   ]
  },
  {
   "cell_type": "markdown",
   "id": "c2be7b06",
   "metadata": {},
   "source": [
    "## **ANALISIS DE SUPTIFICACIÓN**\n",
    "\n",
    "Hacer el análisis de subtipificación, donde se cuenten los subtipos de cada subject alineado por BLAST, y se obtenga una tabla con los mejores 5 subtipos."
   ]
  },
  {
   "cell_type": "code",
   "execution_count": null,
   "id": "b19ecbe7",
   "metadata": {
    "vscode": {
     "languageId": "shellscript"
    }
   },
   "outputs": [],
   "source": [
    "for i in {1..8}\n",
    "do\n",
    "    # Contruir el nombre del directorio\n",
    "    DIR_S=\"S${i}\"\n",
    "\n",
    "    #Acceder al directorio\n",
    "    cd ./${DIR_S}\n",
    "    \n",
    "    # Hacer análisis de subtipificacion. Consiste en obtener todos los HxNx de todos los hits de blast y determinar el subtipo más abundante.\n",
    "    echo \"Ejecutando análisis de subtipificación para ${DIR_S}\"\n",
    "    ~/analisis_influenza/bin/analisis_subtipificacion.sh best_result_${DIR_S}_sequence_corrected.fna\n",
    "    echo \" \"\n",
    "\n",
    "    # Regresar al directorio anterior\n",
    "    cd -\n",
    "\n",
    "    # Guardar resultados de cada segmento en un archivo común.\n",
    "    (\n",
    "        echo \"Análisis de subtipificacion para ${DIR_S}\"\n",
    "        cat ./${DIR_S}/${DIR_S}_subtipos_top5.tsv\n",
    "        echo \"\"\n",
    "    ) >> \"analisis_subtipificacion.tsv\"\n",
    "done"
   ]
  },
  {
   "cell_type": "markdown",
   "id": "9cb4abcc",
   "metadata": {},
   "source": [
    "## **ANALISIS DE PATOGENICIDAD**\n",
    "\n",
    "Este análisis sólo se realiza sobre el S4. El script buscará 4 o más residuos positivos entre el motivo PXnGLF (donde Xn son residuos positivos (K, H, R), principalmente).  \n",
    "Se realiza sobre todos los marcos de lectura pero debe aparecer en los primeros tres puesto que se trabaja con las secuencias con orientacion corregida."
   ]
  },
  {
   "cell_type": "code",
   "execution_count": null,
   "id": "1d589df3",
   "metadata": {
    "vscode": {
     "languageId": "shellscript"
    }
   },
   "outputs": [],
   "source": [
    "cd S4\n",
    "~/analisis_influenza/bin/analisis_patogenicidad.sh best_result_S4_sequence_corrected.fna >analisis_patogenicidad_S4.txt\n",
    "cd -"
   ]
  },
  {
   "cell_type": "markdown",
   "id": "88ea41ba",
   "metadata": {},
   "source": [
    "## **PREPARAR FASTA FINAL**\n",
    "\n",
    "Generar el fasta final. Se incluyen datos para incluir en la construcción de los headers de las secuencias. Son obligatorios y en caso de no contar con alguno de ellos dejar como NA, para garantizar consistencia en los encabezados."
   ]
  },
  {
   "cell_type": "code",
   "execution_count": null,
   "id": "8db95809",
   "metadata": {
    "vscode": {
     "languageId": "shellscript"
    }
   },
   "outputs": [],
   "source": [
    "~/analisis_influenza/bin/renombrar_fastas.sh --host NA --origin NA --year 2025"
   ]
  },
  {
   "cell_type": "markdown",
   "id": "bf469d88",
   "metadata": {},
   "source": [
    "## **PREDECIR ORFS**\n",
    "\n",
    "Se ejecuta el siguiente script que corre el programa getorfs de EMBOSS. El objetivo es delimitar la secuencia del fasta que incluye el ORF de cada segmento viral (El más grande para ORFs solapantes). Posteriormente identifica la posicion de inicio y termino del ORF, obtiene la posición 15 nucleótidos antes del codon de inicio y 15 nucleotidos despues del codon de termino del ORF, y genera una tabla con toda esa información \n",
    "\n",
    "Se renombra el fasta cortado con el nombre de la muestra."
   ]
  },
  {
   "cell_type": "code",
   "execution_count": null,
   "id": "2b8774e0",
   "metadata": {
    "vscode": {
     "languageId": "shellscript"
    }
   },
   "outputs": [],
   "source": [
    "~/analisis_influenza/bin/predecir_orf.sh --s1_max 2436 --s2_max 2471 --s3_max 2287 --s4_min 1700 --s4_max 1720 --s5_max 1646 --s6_max 1594 --s7_max 1226 --s8_max 1023 --input ${MUESTRA}.fna "
   ]
  },
  {
   "cell_type": "markdown",
   "id": "1de9efff",
   "metadata": {},
   "source": [
    "<span style=\"font-size: 150%; color: gold;\"> Revisar a tabla manualmente. Asegurarse que el CDS esté correcto.</span> <span style=\"font-size: 150%; color: red;\"> Corregir final para S7 y S8, porque hay splicing alternativo que no sobrelapa perfectamente.</span>\n",
    "\n",
    "Luego, producir el fasta cortado y renombrarlo usando el nombre de la muestra."
   ]
  },
  {
   "cell_type": "code",
   "execution_count": null,
   "id": "47d9ce32",
   "metadata": {
    "vscode": {
     "languageId": "shellscript"
    }
   },
   "outputs": [],
   "source": [
    "~/analisis_influenza/bin/cortar_fasta.sh tbl_longest_orf_range.tsv\n",
    "mv fasta_cortado.fna ${MUESTRA}_cortado.fna"
   ]
  },
  {
   "cell_type": "markdown",
   "id": "42b1910e",
   "metadata": {},
   "source": [
    "## **CORTAR PROFUNDIDADES**\n",
    "\n",
    "Se toma el archivo de profundidades y la tabla y, en función de los inicios y terminos de CDS de cada secuencia, se recortan los bordes del archivo de profundidades en la columna correspondiente."
   ]
  },
  {
   "cell_type": "code",
   "execution_count": null,
   "id": "005c678e",
   "metadata": {
    "vscode": {
     "languageId": "shellscript"
    }
   },
   "outputs": [],
   "source": [
    "conda run -n R Rscript ~/analisis_influenza/bin/cortar_profundidades.R --profundidades ${MUESTRA}_prof.tsv --rangos tbl_longest_orf_range.tsv --n_inicio 15 --n_final 15\n",
    "mv profundidades_cortadas.tsv ${MUESTRA}_prof_cortadas.tsv"
   ]
  },
  {
   "cell_type": "markdown",
   "id": "238cfe39",
   "metadata": {},
   "source": [
    "## **LIMPIAR AREA DE TRABAJO**\n",
    "\n",
    "La siguiente instrucción elimina los archivos de grafos, las rutas que siguen los archivos de grafos asociadas a las secuencias, y archivos intermedios. Ejecutar en la carpeta de inicio de la muestra."
   ]
  },
  {
   "cell_type": "code",
   "execution_count": null,
   "id": "6919735e",
   "metadata": {
    "vscode": {
     "languageId": "shellscript"
    }
   },
   "outputs": [],
   "source": [
    "find . \\( -name \"assembly_graph*\" -o -name \"*paths\" -o -name \"before_rr*\" -o -name \"mis*\" -o -name \"corrected\" -o -name \"pipeline_state\" -o -name \"split_input\" -o -name \"tmp\" \\) -exec rm -rf {} +"
   ]
  }
 ],
 "metadata": {
  "kernelspec": {
   "display_name": "Bash",
   "language": "bash",
   "name": "bash"
  },
  "language_info": {
   "codemirror_mode": "shell",
   "file_extension": ".sh",
   "mimetype": "text/x-sh",
   "name": "bash"
  }
 },
 "nbformat": 4,
 "nbformat_minor": 5
}
