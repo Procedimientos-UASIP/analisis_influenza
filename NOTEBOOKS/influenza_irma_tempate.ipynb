{
 "cells": [
  {
   "cell_type": "markdown",
   "id": "2bd9232a",
   "metadata": {},
   "source": [
    "# **LIMPIEZA ENSAMBLE Y ANÁLISIS DE GENOMAS DE VIRUS DE INFLUENZA (PROGRAMA IRMA)**"
   ]
  },
  {
   "cell_type": "markdown",
   "id": "7fef8579",
   "metadata": {},
   "source": [
    "## **PREPARAR AMBIENTE INICIAL**\n",
    "\n",
    "Definir variables útiles, que corresponden al nombre de la muestra y a los nombres de los archivos fastq.gz"
   ]
  },
  {
   "cell_type": "code",
   "execution_count": null,
   "id": "53fb95e3",
   "metadata": {
    "vscode": {
     "languageId": "shellscript"
    }
   },
   "outputs": [],
   "source": [
    "MUESTRA=\"\"\n",
    "FASTQ1=\"\"\n",
    "FASTQ2=\"\"\n",
    "CONFIG_FLU_AVIAN=\"/home/admcenapa/analisis_influenza/bin/irma_config.sh\""
   ]
  },
  {
   "cell_type": "markdown",
   "id": "3675102b",
   "metadata": {},
   "source": [
    "Cambiar el directorio a la carpeta a procesar. Ya debe contener los archivos FASTQ a procesar. <span style=\"font-size: 150%; color: red;\"> **Modificar dirección.**</span>"
   ]
  },
  {
   "cell_type": "code",
   "execution_count": null,
   "id": "e7d0257d",
   "metadata": {
    "vscode": {
     "languageId": "shellscript"
    }
   },
   "outputs": [],
   "source": [
    "cd /home/admcenapa/DAVID_RENDON/TRABAJO/2025/${MUESTRA}"
   ]
  },
  {
   "cell_type": "markdown",
   "id": "8a86142b",
   "metadata": {},
   "source": [
    "## **ENSAMBLAJE POR IRMA**"
   ]
  },
  {
   "cell_type": "markdown",
   "id": "40ac6f6f",
   "metadata": {},
   "source": [
    "Ejectuar el programa IRMA sobre los archivos crudos. Utilizar el módulo FLU-avian y el archivo de configuración prearmado (modificar si es necesario)\n",
    "Como es una sola instrucción, sin bucles, puede mandarse a nohup."
   ]
  },
  {
   "cell_type": "code",
   "execution_count": null,
   "id": "99e36709",
   "metadata": {
    "vscode": {
     "languageId": "shellscript"
    }
   },
   "outputs": [],
   "source": [
    "conda activate irma\n",
    "\n",
    "nohup IRMA FLU-avian \"$FASTQ1\" \"$FASTQ2\" \"./RESULTS\" -c \"$CONFIG_FLU_AVIAN\" &"
   ]
  },
  {
   "cell_type": "markdown",
   "id": "857cde6b",
   "metadata": {},
   "source": [
    "## **BLAST SOBRE RESULTADOS DE IRMA**"
   ]
  },
  {
   "cell_type": "code",
   "execution_count": null,
   "id": "9155b4c0",
   "metadata": {
    "vscode": {
     "languageId": "shellscript"
    }
   },
   "outputs": [],
   "source": [
    "cd \"./RESULTS\""
   ]
  },
  {
   "cell_type": "code",
   "execution_count": null,
   "id": "bb2c0fdb",
   "metadata": {
    "vscode": {
     "languageId": "shellscript"
    }
   },
   "outputs": [],
   "source": [
    "conda activate ncbi\n",
    "~/analisis_influenza/bin/irma_blast.sh"
   ]
  },
  {
   "cell_type": "markdown",
   "id": "7aac0b79",
   "metadata": {
    "vscode": {
     "languageId": "shellscript"
    }
   },
   "source": [
    "## **PRODUCIR FASTA FINAL**"
   ]
  },
  {
   "cell_type": "code",
   "execution_count": null,
   "id": "248f4175",
   "metadata": {
    "vscode": {
     "languageId": "shellscript"
    }
   },
   "outputs": [],
   "source": [
    "~/analisis_influenza/bin/irma_fasta_add_n.sh --table_blast blast_best_hit_hsp_sorted.tsv >\"./${MUESTRA}.fna\""
   ]
  },
  {
   "cell_type": "markdown",
   "id": "27599f18",
   "metadata": {},
   "source": [
    "## **UNIR ARCHIVO DE PROFUNDIDADES**"
   ]
  },
  {
   "cell_type": "code",
   "execution_count": null,
   "id": "db439a6f",
   "metadata": {
    "vscode": {
     "languageId": "shellscript"
    }
   },
   "outputs": [],
   "source": [
    "~/analisis_influenza/bin/irma_unir_prof.sh\n",
    "mv prof.tsv ${MUESTRA}_prof.tsv"
   ]
  },
  {
   "cell_type": "markdown",
   "id": "9c0339b3",
   "metadata": {},
   "source": [
    "## **CORREGIR PROFUNDIDADES**"
   ]
  },
  {
   "cell_type": "code",
   "execution_count": null,
   "id": "231d53f4",
   "metadata": {
    "vscode": {
     "languageId": "shellscript"
    }
   },
   "outputs": [],
   "source": [
    "conda activate R\n",
    "~/analisis_influenza/bin/irma_corregir_prof.R --fasta ${MUESTRA}.fna --prof ${MUESTRA}_prof.tsv\n",
    "conda deactivate\n",
    "\n",
    "mv table_prof_corr.tsv ${MUESTRA}_prof_corr.tsv"
   ]
  },
  {
   "cell_type": "markdown",
   "id": "bf7950b4",
   "metadata": {},
   "source": [
    "## **GRAFICAR PROFUNDIDADES**"
   ]
  },
  {
   "cell_type": "code",
   "execution_count": null,
   "id": "257fa1c0",
   "metadata": {
    "vscode": {
     "languageId": "shellscript"
    }
   },
   "outputs": [],
   "source": [
    "conda activate R\n",
    "Rscript ~/analisis_influenza/bin/irma_graficar_prof.R --input_file ${MUESTRA}_prof_corr.tsv --muestra ${MUESTRA}\n",
    "Rscript ~/analisis_influenza/bin/irma_graficar_lecturas.R ./tables/READ_COUNTS.txt\n",
    "mv plot_reads.png ${MUESTRA}_reads.png\n",
    "conda deactivate"
   ]
  },
  {
   "cell_type": "markdown",
   "id": "c9ed44ef",
   "metadata": {},
   "source": [
    "## **ANÁLISIS DE PATOGENICIDAD**"
   ]
  },
  {
   "cell_type": "code",
   "execution_count": null,
   "id": "a05c1a11",
   "metadata": {
    "vscode": {
     "languageId": "shellscript"
    }
   },
   "outputs": [],
   "source": [
    "conda activate base\n",
    "~/analisis_influenza/bin/irma_analisis_pato.sh $(ls A_HA_*.fasta) >${MUESTRA}_pato.txt\n",
    "conda deactivate"
   ]
  },
  {
   "cell_type": "markdown",
   "id": "360e897b",
   "metadata": {},
   "source": [
    "## **ANÁLISIS DE SUBTIPIFICACION**"
   ]
  },
  {
   "cell_type": "code",
   "execution_count": null,
   "id": "96eb5c7a",
   "metadata": {
    "vscode": {
     "languageId": "shellscript"
    }
   },
   "outputs": [],
   "source": [
    "conda activate base\n",
    "~/analisis_influenza/bin/irma_analisis_subtipificacion.sh ${MUESTRA}.fna\n",
    "conda deactivate"
   ]
  }
 ],
 "metadata": {
  "kernelspec": {
   "display_name": "Bash",
   "language": "bash",
   "name": "bash"
  },
  "language_info": {
   "name": "bash"
  }
 },
 "nbformat": 4,
 "nbformat_minor": 5
}
