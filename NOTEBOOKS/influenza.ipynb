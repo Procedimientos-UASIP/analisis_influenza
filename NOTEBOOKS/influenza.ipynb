{
 "cells": [
  {
   "cell_type": "markdown",
   "id": "c5c20f03",
   "metadata": {},
   "source": [
    "# NOTEBOOK PARA REALIZAR TODO EL ANÁLISIS DE SECUENCIACIÓN, ENSAMBLE Y ANÁLISIS DE GENOMAS DE VIRUS DE INFLUENZA\n",
    "\n"
   ]
  },
  {
   "cell_type": "markdown",
   "id": "db85c750",
   "metadata": {},
   "source": [
    "## LIMPIEZA DE ARCHIVOS FASTQ"
   ]
  },
  {
   "cell_type": "markdown",
   "id": "1aa1e7ce",
   "metadata": {},
   "source": [
    "Definir variables útiles"
   ]
  },
  {
   "cell_type": "code",
   "execution_count": null,
   "id": "cf8febb9",
   "metadata": {
    "vscode": {
     "languageId": "shellscript"
    }
   },
   "outputs": [],
   "source": [
    "MUESTRA=\"CPA_TEST\""
   ]
  },
  {
   "cell_type": "markdown",
   "id": "b57aedba",
   "metadata": {},
   "source": [
    "Cambiar el directorio a la carpeta a procesar. Ya debe contener los archivos FASTQ a procesar."
   ]
  },
  {
   "cell_type": "code",
   "execution_count": null,
   "id": "aa946557",
   "metadata": {
    "vscode": {
     "languageId": "shellscript"
    }
   },
   "outputs": [],
   "source": [
    "cd /home/admcenapa/DAVID_RENDON/TRABAJO/2025/${MUESTRA}"
   ]
  },
  {
   "cell_type": "markdown",
   "id": "e91ec4f4",
   "metadata": {},
   "source": [
    "Crear una carpeta para depositar las secuencias crudas. Ahí se moverán los archivos crudos."
   ]
  },
  {
   "cell_type": "code",
   "execution_count": null,
   "id": "ffcb685f",
   "metadata": {
    "vscode": {
     "languageId": "shellscript"
    }
   },
   "outputs": [],
   "source": [
    "mkdir RAW\n",
    "mv CPA* ./RAW"
   ]
  },
  {
   "cell_type": "markdown",
   "id": "ab5eae0e",
   "metadata": {},
   "source": [
    "Crear ligas simbolicas a esos archivos en la carpeta actual para facilitar operaciones futuras."
   ]
  },
  {
   "cell_type": "code",
   "execution_count": null,
   "id": "f0ddc81f",
   "metadata": {
    "vscode": {
     "languageId": "shellscript"
    }
   },
   "outputs": [],
   "source": [
    "ln -s ./RAW/CPA-00245-25-P1-1_S2_L001_R1_001.fastq.gz R1.fq.gz\n",
    "ln -s ./RAW/CPA-00245-25-P1-1_S2_L001_R2_001.fastq.gz R2.fq.gz"
   ]
  },
  {
   "cell_type": "markdown",
   "id": "e6809c5a",
   "metadata": {},
   "source": [
    "Crear un directorio para depositar el análisis de calidad de lecturas crudas:"
   ]
  },
  {
   "cell_type": "code",
   "execution_count": null,
   "id": "57c94591",
   "metadata": {
    "vscode": {
     "languageId": "shellscript"
    }
   },
   "outputs": [],
   "source": [
    "mkdir CALIDAD_CRUDA"
   ]
  },
  {
   "cell_type": "markdown",
   "id": "4ef4f8e7",
   "metadata": {
    "vscode": {
     "languageId": "shellscript"
    }
   },
   "source": [
    "Ejecutar el análisis de calidad. Usar ambiente calidad"
   ]
  },
  {
   "cell_type": "code",
   "execution_count": null,
   "id": "80e52d37",
   "metadata": {
    "vscode": {
     "languageId": "shellscript"
    }
   },
   "outputs": [],
   "source": [
    "conda activate calidad"
   ]
  },
  {
   "cell_type": "code",
   "execution_count": null,
   "id": "c21312ba",
   "metadata": {
    "vscode": {
     "languageId": "shellscript"
    }
   },
   "outputs": [],
   "source": [
    "fastqc R1.fq.gz R2.fq.gz --outdir ./CALIDAD_CRUDA --threads 14 "
   ]
  },
  {
   "cell_type": "markdown",
   "id": "d1d7fb94",
   "metadata": {},
   "source": [
    "Revisar los archivos HTML de salida para identificar parámetros que ayuden a la limpieza. Esto se puede lograr transfiriendo los archivos HTML a una computadora local y visualizando en un navedador de internet.\n",
    "\n",
    "Ejecutar el programa de limpieza. Ajustar parámetros de acuerdo a las necesidades. Cuidado al modificar los cores (ver documentación). Los resultados se guardarán en ./TRIMMING/\n"
   ]
  },
  {
   "cell_type": "code",
   "execution_count": null,
   "id": "d130f538",
   "metadata": {
    "vscode": {
     "languageId": "shellscript"
    }
   },
   "outputs": [],
   "source": [
    "trim_galore --paired --retain_unpaired --gzip --fastqc --cores 6 --clip_R1 16 --clip_R2 16 --three_prime_clip_R1 2 --three_prime_clip_R2 2 --length 100 -o TRIMMING/ R1.fq.gz R2.fq.gz"
   ]
  },
  {
   "cell_type": "code",
   "execution_count": null,
   "id": "56652a9c",
   "metadata": {
    "vscode": {
     "languageId": "shellscript"
    }
   },
   "outputs": [],
   "source": [
    "conda deactivate"
   ]
  },
  {
   "cell_type": "markdown",
   "id": "683811b1",
   "metadata": {},
   "source": [
    "Revisar los archivos HTML de salida para verificar los resultados de la limpieza. Queda a consideración de la experiencia del usuario el quedar conforme con la limpieza realizada."
   ]
  },
  {
   "cell_type": "markdown",
   "id": "c8b164b4",
   "metadata": {},
   "source": [
    "## ALINEAMIENTO DE LECTURAS CONTRA BASE DE DATOS DE INFLUENZA"
   ]
  },
  {
   "cell_type": "markdown",
   "id": "eaa67181",
   "metadata": {},
   "source": [
    "Hacer directorio para los alineamientos:"
   ]
  },
  {
   "cell_type": "code",
   "execution_count": null,
   "id": "ecc3691a",
   "metadata": {
    "vscode": {
     "languageId": "shellscript"
    }
   },
   "outputs": [],
   "source": [
    "mkdir -p ALINEAMIENTO/BWA/ALL_SEGMENTS_MAPPING"
   ]
  },
  {
   "cell_type": "markdown",
   "id": "680649de",
   "metadata": {},
   "source": [
    "Crear ligas simbolicas a los archivos a usar:"
   ]
  },
  {
   "cell_type": "code",
   "execution_count": null,
   "id": "d4f86675",
   "metadata": {
    "vscode": {
     "languageId": "shellscript"
    }
   },
   "outputs": [],
   "source": [
    "ln -s TRIMMING/R1_val_1.fq.gz reads_r1_tr\n",
    "ln -s TRIMMING/R2_val_2.fq.gz reads_r2_tr\n",
    "ln -s TRIMMING/R1_unpaired_1.fq.gz reads_u1_tr\n",
    "ln -s TRIMMING/R2_unpaired_2.fq.gz reads_u2_tr"
   ]
  },
  {
   "cell_type": "markdown",
   "id": "0b87373f",
   "metadata": {},
   "source": [
    "Activar ambiente conda alineamiento"
   ]
  },
  {
   "cell_type": "code",
   "execution_count": null,
   "id": "adfa9d36",
   "metadata": {
    "vscode": {
     "languageId": "shellscript"
    }
   },
   "outputs": [],
   "source": [
    "conda activate alineamiento"
   ]
  },
  {
   "cell_type": "markdown",
   "id": "f89e5163",
   "metadata": {},
   "source": [
    "Hacer los alineamientos de las secuencias pareadas y no pareadas contra la base de datos viral preparada en la UASIP."
   ]
  },
  {
   "cell_type": "code",
   "execution_count": null,
   "id": "02f83e43",
   "metadata": {
    "vscode": {
     "languageId": "shellscript"
    }
   },
   "outputs": [],
   "source": [
    "#Alineamiento de secuencias pareadas \n",
    "bwa-mem2 mem -t 20 /backup/DATABASES/UASIP/BWAMEM2/INFLUENZA/influenza_db.fna reads_r1_tr reads_r2_tr >ALINEAMIENTO/BWA/ALL_SEGMENTS_MAPPING/paired.sam \n",
    "\n",
    "#Alineamiento de secuencias no pareadas de R1\n",
    "bwa-mem2 mem -t 20 /backup/DATABASES/UASIP/BWAMEM2/INFLUENZA/influenza_db.fna reads_u1_tr >ALINEAMIENTO/BWA/ALL_SEGMENTS_MAPPING/unpaired_r1.sam\n",
    "\n",
    "#Alineamiento de secuencias no pareadas de R2\n",
    "bwa-mem2 mem -t 20 /backup/DATABASES/UASIP/BWAMEM2/INFLUENZA/influenza_db.fna reads_u2_tr >ALINEAMIENTO/BWA/ALL_SEGMENTS_MAPPING/unpaired_r2.sam"
   ]
  },
  {
   "cell_type": "markdown",
   "id": "9f2c2a00",
   "metadata": {},
   "source": [
    "Entrar al directorio donde se depositaron los resultados del alineamiento. Formatear los archivos sam resultantes en un archivo bam ordenado. Regresar al directorio del proyecto."
   ]
  },
  {
   "cell_type": "code",
   "execution_count": null,
   "id": "d135c7ed",
   "metadata": {
    "vscode": {
     "languageId": "shellscript"
    }
   },
   "outputs": [],
   "source": [
    "cd ALINEAMIENTO/BWA/ALL_SEGMENTS_MAPPING \n",
    "samtools merge -u - paired.sam unpaired_r1.sam unpaired_r2.sam | samtools sort -o all_sorted.bam && rm paired.sam unpaired_r1.sam unpaired_r2.sam\n",
    "cd -"
   ]
  },
  {
   "cell_type": "markdown",
   "id": "44b9f148",
   "metadata": {},
   "source": [
    "Crear ocho directorios para depositar las lecturas por el segmento al cual alinearon."
   ]
  },
  {
   "cell_type": "code",
   "execution_count": null,
   "id": "f2bb6a3a",
   "metadata": {
    "vscode": {
     "languageId": "shellscript"
    }
   },
   "outputs": [],
   "source": [
    "mkdir ALINEAMIENTO/BWA/S{1..8}"
   ]
  },
  {
   "cell_type": "markdown",
   "id": "f3ff108c",
   "metadata": {},
   "source": [
    "Ejecutar el siguiente programa. Este programa abre el archivo bam, elimina alineamientos con alineamientos secundarios, y obtiene las lecturas por cada segmento. Se analiza, por segmento, el formato CIGAR asociado de cada lectura. Se filtran aquellas secuencias que alinearon en al menos 70% de sus bases. Se guardan los nombres de las lecturas pertinentes y se extraen las secuencias de los archivos fastq limpios usando dichos nombres. Los archivos producidos se guardan en las ubicaciones pertinentes."
   ]
  },
  {
   "cell_type": "code",
   "execution_count": null,
   "id": "cfc10685",
   "metadata": {
    "vscode": {
     "languageId": "shellscript"
    }
   },
   "outputs": [],
   "source": [
    "~/analisis_influenza/bin/separar_seqs_segmentos.sh"
   ]
  },
  {
   "cell_type": "markdown",
   "id": "e07c2f9f",
   "metadata": {},
   "source": [
    "## ENSAMBLE DE NOVO DE GENOMAS DE INFLUENZA"
   ]
  },
  {
   "cell_type": "markdown",
   "id": "5267dac2",
   "metadata": {},
   "source": [
    "Activar ambiente conda de los ensambladores"
   ]
  },
  {
   "cell_type": "code",
   "execution_count": null,
   "id": "470688b2",
   "metadata": {
    "vscode": {
     "languageId": "shellscript"
    }
   },
   "outputs": [],
   "source": [
    "conda activate ensamble"
   ]
  },
  {
   "cell_type": "markdown",
   "id": "97574aa9",
   "metadata": {},
   "source": [
    "Activa una terminal tmux para que se encargue de enviar los procesos aunque salgamos del servidor"
   ]
  },
  {
   "cell_type": "code",
   "execution_count": null,
   "id": "d6f1eb3f",
   "metadata": {
    "vscode": {
     "languageId": "shellscript"
    }
   },
   "outputs": [],
   "source": [
    "tmux new -s ensamblaje"
   ]
  },
  {
   "cell_type": "markdown",
   "id": "8e6a4b13",
   "metadata": {},
   "source": [
    "Pegar el siguiente código de instrucciones en la terminal tmux. Este paso está diseñado para ejecutarse sobre todos los segmentos virales. Es importante revisar cada archivo log de cada subcarpeta para verificar que se haya ejecutado todos los procesos, desde el kmer 11 al kmer 127. Se hace en terminal tmux para que el ciclo no caiga cuando se termine la conexion con el servidor."
   ]
  },
  {
   "cell_type": "code",
   "execution_count": null,
   "id": "e6eaabd9",
   "metadata": {
    "vscode": {
     "languageId": "shellscript"
    }
   },
   "outputs": [],
   "source": [
    "for i in {1..8}; do\n",
    "    ID=\"S${i}\"\n",
    "    id=\"s${i}\"\n",
    "    LOG=\"./ENSAMBLE/SPADES/${ID}/log_11_127_${ID}\"\n",
    "    mkdir -p \"./ENSAMBLE/SPADES/${ID}\"\n",
    "\n",
    "    TMP_SCRIPT=$(mktemp /tmp/run_${ID}_XXXXXX.sh)\n",
    "\n",
    "    cat > \"$TMP_SCRIPT\" <<EOF\n",
    "#!/bin/bash\n",
    "\n",
    "{\n",
    "    echo \"===== Iniciando proceso para ${ID} =====\"\n",
    "    echo \"Inicio: \\$(date)\"\n",
    "} >> \"$LOG\"\n",
    "\n",
    "~/analisis_influenza/bin/ensamble.sh \\\\\n",
    "    -a \"./ALINEAMIENTO/BWA/${ID}/${id}_reads_r1.fq.gz\" \\\\\n",
    "    -b \"./ALINEAMIENTO/BWA/${ID}/${id}_reads_r2.fq.gz\" \\\\\n",
    "    -x \"./ALINEAMIENTO/BWA/${ID}/${id}_reads_u1.fq.gz\" \\\\\n",
    "    -y \"./ALINEAMIENTO/BWA/${ID}/${id}_reads_u2.fq.gz\" \\\\\n",
    "    -t 26 --kini 11 --kfin 127 -o ./ENSAMBLE/SPADES/${ID}/OUT_11_127 >> \"$LOG\" 2>&1\n",
    "\n",
    "{\n",
    "    echo \"Fin: \\$(date)\"\n",
    "    echo \"===== Finalizó proceso para ${ID} =====\"\n",
    "    echo\n",
    "} >> \"$LOG\"\n",
    "\n",
    "rm -- \"\\$0\"\n",
    "EOF\n",
    "\n",
    "    chmod +x \"$TMP_SCRIPT\"\n",
    "    nohup \"$TMP_SCRIPT\" &\n",
    "    wait\n",
    "done"
   ]
  },
  {
   "cell_type": "code",
   "execution_count": null,
   "id": "60e0f797",
   "metadata": {
    "vscode": {
     "languageId": "shellscript"
    }
   },
   "outputs": [],
   "source": [
    "cd /home/admcenapa/DAVID_RENDON/TRABAJO/2025/${MUESTRA}"
   ]
  },
  {
   "cell_type": "markdown",
   "id": "88f64afe",
   "metadata": {},
   "source": [
    "Se puede cerrar sesion con Ctrl + B, luego suelta y presiona D. Para reconectar la terminal tmux usar: tmux attach -t ensamblaje\n",
    "\n",
    "Monitorear que el proceso haya concluido, revisando periodicamente los archivos log. Una vez concluido el proceso de tmux, entrar a la terminal tmux y cerrar con: exit\n",
    "\n",
    "Activar ambiente alineamiento para continuar con el procesamiento"
   ]
  },
  {
   "cell_type": "code",
   "execution_count": 10,
   "id": "b76cd117",
   "metadata": {
    "vscode": {
     "languageId": "shellscript"
    }
   },
   "outputs": [],
   "source": [
    "conda activate alineamiento"
   ]
  },
  {
   "cell_type": "markdown",
   "id": "138de61b",
   "metadata": {},
   "source": [
    "Hacer loop para unir todos los resultados de blast (si se hizo por partes) y analizar los resultados, extraer secuencias, revisar orientacion y calcular profundidad."
   ]
  },
  {
   "cell_type": "code",
   "execution_count": 11,
   "id": "8cc515b7",
   "metadata": {
    "vscode": {
     "languageId": "shellscript"
    }
   },
   "outputs": [
    {
     "name": "stdout",
     "output_type": "stream",
     "text": [
      "🔍 Procesando S1 en /home/admcenapa/DAVID_RENDON/TRABAJO/2025/CPA_TEST/ENSAMBLE/SPADES/S1\n",
      "\t📄 Añadiendo: OUT_11_127/BLAST_RESULTS/blastn-careful.txt\n",
      "\t✅ Archivo combinado creado: S1_blastn-careful_merged.txt\n",
      "✅ Resultados guardados en: best_result_S1_blastn-careful_merged.txt\n",
      "✅ Secuencia extraída en: best_result_S1_sequence.fna\n",
      "✅ Manteniendo la secuencia original (orientación '+')...\n",
      "✅ Secuencia corregida guardada en: best_result_S1_sequence_corrected.fna\n",
      "➤ Calculando profundidad de lecturas de S1 en mejor secuencia ensamblada.\n",
      "\t➤ Preparando indice\n",
      "\t➤ Alineando lecturas pareadas de S1 en mejor secuencia ensamblada.\n",
      "\t➤ Alineando lecturas no pareadas de R1 de S1 en mejor secuencia ensamblada.\n",
      "\t➤ Alineando lecturas no pareadas de R2 de S1 en mejor secuencia ensamblada.\n",
      "[W::bam_merge_core2] No @HD tag found.\n",
      "\t➤ Calculando profundidades\n",
      "/home/admcenapa/DAVID_RENDON/TRABAJO/2025/CPA_TEST\n",
      "🔍 Procesando S2 en /home/admcenapa/DAVID_RENDON/TRABAJO/2025/CPA_TEST/ENSAMBLE/SPADES/S2\n",
      "\t📄 Añadiendo: OUT_11_127/BLAST_RESULTS/blastn-careful.txt\n",
      "\t✅ Archivo combinado creado: S2_blastn-careful_merged.txt\n",
      "✅ Resultados guardados en: best_result_S2_blastn-careful_merged.txt\n",
      "✅ Secuencia extraída en: best_result_S2_sequence.fna\n",
      "✅ Manteniendo la secuencia original (orientación '+')...\n",
      "✅ Secuencia corregida guardada en: best_result_S2_sequence_corrected.fna\n",
      "➤ Calculando profundidad de lecturas de S2 en mejor secuencia ensamblada.\n",
      "\t➤ Preparando indice\n",
      "\t➤ Alineando lecturas pareadas de S2 en mejor secuencia ensamblada.\n",
      "\t➤ Alineando lecturas no pareadas de R1 de S2 en mejor secuencia ensamblada.\n",
      "\t➤ Alineando lecturas no pareadas de R2 de S2 en mejor secuencia ensamblada.\n",
      "[W::bam_merge_core2] No @HD tag found.\n",
      "\t➤ Calculando profundidades\n",
      "/home/admcenapa/DAVID_RENDON/TRABAJO/2025/CPA_TEST\n",
      "🔍 Procesando S3 en /home/admcenapa/DAVID_RENDON/TRABAJO/2025/CPA_TEST/ENSAMBLE/SPADES/S3\n",
      "\t📄 Añadiendo: OUT_11_127/BLAST_RESULTS/blastn-careful.txt\n",
      "\t✅ Archivo combinado creado: S3_blastn-careful_merged.txt\n",
      "✅ Resultados guardados en: best_result_S3_blastn-careful_merged.txt\n",
      "✅ Secuencia extraída en: best_result_S3_sequence.fna\n",
      "🔄 Invirtiendo la secuencia (reverso complementario) por orientación '-'...\n",
      "✅ Secuencia corregida guardada en: best_result_S3_sequence_corrected.fna\n",
      "➤ Calculando profundidad de lecturas de S3 en mejor secuencia ensamblada.\n",
      "\t➤ Preparando indice\n",
      "\t➤ Alineando lecturas pareadas de S3 en mejor secuencia ensamblada.\n",
      "\t➤ Alineando lecturas no pareadas de R1 de S3 en mejor secuencia ensamblada.\n",
      "\t➤ Alineando lecturas no pareadas de R2 de S3 en mejor secuencia ensamblada.\n",
      "[W::bam_merge_core2] No @HD tag found.\n",
      "\t➤ Calculando profundidades\n",
      "/home/admcenapa/DAVID_RENDON/TRABAJO/2025/CPA_TEST\n",
      "🔍 Procesando S4 en /home/admcenapa/DAVID_RENDON/TRABAJO/2025/CPA_TEST/ENSAMBLE/SPADES/S4\n",
      "\t📄 Añadiendo: OUT_11_127/BLAST_RESULTS/blastn-careful.txt\n",
      "\t✅ Archivo combinado creado: S4_blastn-careful_merged.txt\n",
      "✅ Resultados guardados en: best_result_S4_blastn-careful_merged.txt\n",
      "✅ Secuencia extraída en: best_result_S4_sequence.fna\n",
      "✅ Manteniendo la secuencia original (orientación '+')...\n",
      "✅ Secuencia corregida guardada en: best_result_S4_sequence_corrected.fna\n",
      "➤ Calculando profundidad de lecturas de S4 en mejor secuencia ensamblada.\n",
      "\t➤ Preparando indice\n",
      "\t➤ Alineando lecturas pareadas de S4 en mejor secuencia ensamblada.\n",
      "\t➤ Alineando lecturas no pareadas de R1 de S4 en mejor secuencia ensamblada.\n",
      "\t➤ Alineando lecturas no pareadas de R2 de S4 en mejor secuencia ensamblada.\n",
      "[W::bam_merge_core2] No @HD tag found.\n",
      "\t➤ Calculando profundidades\n",
      "/home/admcenapa/DAVID_RENDON/TRABAJO/2025/CPA_TEST\n",
      "🔍 Procesando S5 en /home/admcenapa/DAVID_RENDON/TRABAJO/2025/CPA_TEST/ENSAMBLE/SPADES/S5\n",
      "\t📄 Añadiendo: OUT_11_127/BLAST_RESULTS/blastn-careful.txt\n",
      "\t✅ Archivo combinado creado: S5_blastn-careful_merged.txt\n",
      "✅ Resultados guardados en: best_result_S5_blastn-careful_merged.txt\n",
      "✅ Secuencia extraída en: best_result_S5_sequence.fna\n",
      "✅ Manteniendo la secuencia original (orientación '+')...\n",
      "✅ Secuencia corregida guardada en: best_result_S5_sequence_corrected.fna\n",
      "➤ Calculando profundidad de lecturas de S5 en mejor secuencia ensamblada.\n",
      "\t➤ Preparando indice\n",
      "\t➤ Alineando lecturas pareadas de S5 en mejor secuencia ensamblada.\n",
      "\t➤ Alineando lecturas no pareadas de R1 de S5 en mejor secuencia ensamblada.\n",
      "\t➤ Alineando lecturas no pareadas de R2 de S5 en mejor secuencia ensamblada.\n",
      "[W::bam_merge_core2] No @HD tag found.\n",
      "\t➤ Calculando profundidades\n",
      "/home/admcenapa/DAVID_RENDON/TRABAJO/2025/CPA_TEST\n",
      "🔍 Procesando S6 en /home/admcenapa/DAVID_RENDON/TRABAJO/2025/CPA_TEST/ENSAMBLE/SPADES/S6\n",
      "\t📄 Añadiendo: OUT_11_127/BLAST_RESULTS/blastn-careful.txt\n",
      "\t✅ Archivo combinado creado: S6_blastn-careful_merged.txt\n",
      "✅ Resultados guardados en: best_result_S6_blastn-careful_merged.txt\n",
      "✅ Secuencia extraída en: best_result_S6_sequence.fna\n",
      "✅ Manteniendo la secuencia original (orientación '+')...\n",
      "✅ Secuencia corregida guardada en: best_result_S6_sequence_corrected.fna\n",
      "➤ Calculando profundidad de lecturas de S6 en mejor secuencia ensamblada.\n",
      "\t➤ Preparando indice\n",
      "\t➤ Alineando lecturas pareadas de S6 en mejor secuencia ensamblada.\n",
      "\t➤ Alineando lecturas no pareadas de R1 de S6 en mejor secuencia ensamblada.\n",
      "\t➤ Alineando lecturas no pareadas de R2 de S6 en mejor secuencia ensamblada.\n",
      "[W::bam_merge_core2] No @HD tag found.\n",
      "\t➤ Calculando profundidades\n",
      "/home/admcenapa/DAVID_RENDON/TRABAJO/2025/CPA_TEST\n",
      "🔍 Procesando S7 en /home/admcenapa/DAVID_RENDON/TRABAJO/2025/CPA_TEST/ENSAMBLE/SPADES/S7\n",
      "\t📄 Añadiendo: OUT_11_127/BLAST_RESULTS/blastn-careful.txt\n",
      "\t✅ Archivo combinado creado: S7_blastn-careful_merged.txt\n",
      "✅ Resultados guardados en: best_result_S7_blastn-careful_merged.txt\n",
      "✅ Secuencia extraída en: best_result_S7_sequence.fna\n",
      "✅ Manteniendo la secuencia original (orientación '+')...\n",
      "✅ Secuencia corregida guardada en: best_result_S7_sequence_corrected.fna\n",
      "➤ Calculando profundidad de lecturas de S7 en mejor secuencia ensamblada.\n",
      "\t➤ Preparando indice\n",
      "\t➤ Alineando lecturas pareadas de S7 en mejor secuencia ensamblada.\n",
      "\t➤ Alineando lecturas no pareadas de R1 de S7 en mejor secuencia ensamblada.\n",
      "\t➤ Alineando lecturas no pareadas de R2 de S7 en mejor secuencia ensamblada.\n",
      "[W::bam_merge_core2] No @HD tag found.\n",
      "\t➤ Calculando profundidades\n",
      "/home/admcenapa/DAVID_RENDON/TRABAJO/2025/CPA_TEST\n",
      "🔍 Procesando S8 en /home/admcenapa/DAVID_RENDON/TRABAJO/2025/CPA_TEST/ENSAMBLE/SPADES/S8\n",
      "\t📄 Añadiendo: OUT_11_127/BLAST_RESULTS/blastn-careful.txt\n",
      "\t✅ Archivo combinado creado: S8_blastn-careful_merged.txt\n",
      "✅ Resultados guardados en: best_result_S8_blastn-careful_merged.txt\n",
      "✅ Secuencia extraída en: best_result_S8_sequence.fna\n",
      "🔄 Invirtiendo la secuencia (reverso complementario) por orientación '-'...\n",
      "✅ Secuencia corregida guardada en: best_result_S8_sequence_corrected.fna\n",
      "➤ Calculando profundidad de lecturas de S8 en mejor secuencia ensamblada.\n",
      "\t➤ Preparando indice\n",
      "\t➤ Alineando lecturas pareadas de S8 en mejor secuencia ensamblada.\n",
      "\t➤ Alineando lecturas no pareadas de R1 de S8 en mejor secuencia ensamblada.\n",
      "\t➤ Alineando lecturas no pareadas de R2 de S8 en mejor secuencia ensamblada.\n",
      "[W::bam_merge_core2] No @HD tag found.\n",
      "\t➤ Calculando profundidades\n",
      "/home/admcenapa/DAVID_RENDON/TRABAJO/2025/CPA_TEST\n"
     ]
    }
   ],
   "source": [
    "for i in {1..8}; do\n",
    "    ID=\"S${i}\"\n",
    "\n",
    "    cd \"./ENSAMBLE/SPADES/${ID}\"\n",
    "\n",
    "    ~/analisis_influenza/bin/merge_blast_results.sh\n",
    "\n",
    "    ~/analisis_influenza/bin/ensamble_analyze_blast.sh ${ID}_blastn-careful_merged.txt\n",
    "    \n",
    "    cd -\n",
    "done"
   ]
  },
  {
   "cell_type": "markdown",
   "id": "89a37ea1",
   "metadata": {},
   "source": [
    "Ingresar al directorio SPADES para unir profundidades y calcular lecturas utilizadas."
   ]
  },
  {
   "cell_type": "code",
   "execution_count": 12,
   "id": "add70f66",
   "metadata": {
    "vscode": {
     "languageId": "shellscript"
    }
   },
   "outputs": [],
   "source": [
    "cd ./ENSAMBLE/SPADES"
   ]
  },
  {
   "cell_type": "code",
   "execution_count": 13,
   "id": "16fe621c",
   "metadata": {
    "vscode": {
     "languageId": "shellscript"
    }
   },
   "outputs": [
    {
     "name": "stdout",
     "output_type": "stream",
     "text": [
      "📋 Calculando porcentaje de lecturas usadas en ensamblaje de novo para cada segmento (S1-S8)...\n",
      "Segmento  \tLecturas_alineadas  \tLecturas_ensamblaje \tPorcentaje_usadas   \n",
      "S1        \t25237               \t23634               \t93.65               \n",
      "S2        \t24892               \t20643               \t82.93               \n",
      "S3        \t22049               \t21458               \t97.32               \n",
      "S4        \t81650               \t79377               \t97.22               \n",
      "S5        \t95246               \t90403               \t94.92               \n",
      "S6        \t101788              \t95902               \t94.22               \n",
      "S7        \t185482              \t181380              \t97.79               \n",
      "S8        \t175278              \t171412              \t97.79               \n",
      "✅ Resultados guardados en 'uso_de_lecturas.tsv'.\n"
     ]
    }
   ],
   "source": [
    "~/analisis_influenza/bin/unir_profundidades.sh \\\n",
    "    --S1 S1/PROFUNDIDAD/S1_profundidad \\\n",
    "    --S2 S2/PROFUNDIDAD/S2_profundidad \\\n",
    "    --S3 S3/PROFUNDIDAD/S3_profundidad \\\n",
    "    --S4 S4/PROFUNDIDAD/S4_profundidad \\\n",
    "    --S5 S5/PROFUNDIDAD/S5_profundidad \\\n",
    "    --S6 S6/PROFUNDIDAD/S6_profundidad \\\n",
    "    --S7 S7/PROFUNDIDAD/S7_profundidad \\\n",
    "    --S8 S8/PROFUNDIDAD/S8_profundidad\n",
    "\n",
    "~/analisis_influenza/bin/ensamble_cal_porc_lect_mapeadas.sh"
   ]
  },
  {
   "cell_type": "markdown",
   "id": "9fd034f6",
   "metadata": {},
   "source": [
    "Activar ambiente R"
   ]
  },
  {
   "cell_type": "code",
   "execution_count": 14,
   "id": "165fcc5a",
   "metadata": {
    "vscode": {
     "languageId": "shellscript"
    }
   },
   "outputs": [],
   "source": [
    "conda activate R"
   ]
  },
  {
   "cell_type": "markdown",
   "id": "1f75e2db",
   "metadata": {},
   "source": [
    "Graficar profundidades."
   ]
  },
  {
   "cell_type": "code",
   "execution_count": 17,
   "id": "03567a0c",
   "metadata": {
    "vscode": {
     "languageId": "shellscript"
    }
   },
   "outputs": [
    {
     "name": "stdout",
     "output_type": "stream",
     "text": [
      "\u001b[?25h\u001b[?25h\u001b[?25h\u001b[?25h\u001b[?25h\u001b[?25h\u001b[?25h\u001b[?25h\u001b[?25h\u001b[?25h✅ Archivo leído correctamente: profundidades_finales.tsv\n",
      "\u001b[?25h- Número de filas: 2347\n",
      "\u001b[?25h- Número de columnas: 9\n",
      "\u001b[?25h- Muestra procesada: CPA_TEST\n",
      "\u001b[?25h💻 Limpiando y procesando\n",
      "\u001b[?25h\u001b[?25h\u001b[?25h\u001b[?25h\u001b[?25h\u001b[?25h\u001b[?25h\u001b[?25h\u001b[?25h📄 Gráfica producida. Finalizando\n",
      "\u001b[?25h\u001b[?25h\n"
     ]
    }
   ],
   "source": [
    "~/analisis_influenza/bin/graficar_profundidad.R --input_file profundidades_finales.tsv --muestra CPA_TEST"
   ]
  },
  {
   "cell_type": "markdown",
   "id": "08b3f3fe",
   "metadata": {},
   "source": [
    "Graficar uso de secuencias por segmento."
   ]
  },
  {
   "cell_type": "code",
   "execution_count": 18,
   "id": "fc0456ed",
   "metadata": {
    "vscode": {
     "languageId": "shellscript"
    }
   },
   "outputs": [
    {
     "name": "stdout",
     "output_type": "stream",
     "text": [
      "\u001b[?25h\u001b[?25h\u001b[?25h\u001b[?25h\u001b[?25h\u001b[?25h\u001b[?25h\u001b[?25h\u001b[?25h\u001b[?25h✅ Archivo leído correctamente: uso_de_lecturas.tsv\n",
      "\u001b[?25h- Muestra procesada: CPA_TEST\n",
      "\u001b[?25h💻 Limpiando y procesando\n",
      "\u001b[?25h\u001b[?25h\u001b[?25h\u001b[?25h\u001b[?25h\u001b[?25h\u001b[?25h\u001b[?25h\u001b[?25h\u001b[?25h\u001b[?25h📄 Gráfica producida. Finalizando\n",
      "\u001b[?25h\u001b[?25h\n"
     ]
    }
   ],
   "source": [
    "~/analisis_influenza/bin/graficar_lecturas.R --input_file uso_de_lecturas.tsv --muestra CPA_TEST"
   ]
  },
  {
   "cell_type": "code",
   "execution_count": 19,
   "id": "e4a53242",
   "metadata": {
    "vscode": {
     "languageId": "shellscript"
    }
   },
   "outputs": [],
   "source": [
    "conda deactivate"
   ]
  },
  {
   "cell_type": "code",
   "execution_count": 16,
   "id": "881f9a96",
   "metadata": {
    "vscode": {
     "languageId": "shellscript"
    }
   },
   "outputs": [
    {
     "name": "stdout",
     "output_type": "stream",
     "text": [
      "/home/admcenapa/DAVID_RENDON/TRABAJO/2025/CPA_TEST/ENSAMBLE/SPADES\n"
     ]
    }
   ],
   "source": [
    "pwd"
   ]
  }
 ],
 "metadata": {
  "kernelspec": {
   "display_name": "Bash",
   "language": "bash",
   "name": "bash"
  },
  "language_info": {
   "codemirror_mode": "shell",
   "file_extension": ".sh",
   "mimetype": "text/x-sh",
   "name": "bash"
  }
 },
 "nbformat": 4,
 "nbformat_minor": 5
}
