{
 "cells": [
  {
   "cell_type": "markdown",
   "id": "c5c20f03",
   "metadata": {},
   "source": [
    "# NOTEBOOK PARA REALIZAR TODO EL ANÁLISIS DE SECUENCIACIÓN, ENSAMBLE Y ANÁLISIS DE GENOMAS DE VIRUS DE INFLUENZA\n",
    "\n"
   ]
  },
  {
   "cell_type": "markdown",
   "id": "db85c750",
   "metadata": {},
   "source": [
    "## LIMPIEZA DE ARCHIVOS FASTQ"
   ]
  },
  {
   "cell_type": "markdown",
   "id": "b57aedba",
   "metadata": {},
   "source": [
    "Cambiar el directorio a la carpeta a procesar. Ya debe contener los archivos FASTQ a procesar."
   ]
  },
  {
   "cell_type": "code",
   "execution_count": 2,
   "id": "aa946557",
   "metadata": {
    "vscode": {
     "languageId": "shellscript"
    }
   },
   "outputs": [
    {
     "name": "stdout",
     "output_type": "stream",
     "text": [
      "/home/admcenapa/DAVID_RENDON/TRABAJO/2025/CPA_TEST\n"
     ]
    }
   ],
   "source": [
    "cd /home/admcenapa/DAVID_RENDON/TRABAJO/2025/CPA_TEST\n",
    "pwd"
   ]
  },
  {
   "cell_type": "markdown",
   "id": "e91ec4f4",
   "metadata": {},
   "source": [
    "Crear una carpeta para depositar las secuencias crudas. Ahí se moverán los archivos crudos."
   ]
  },
  {
   "cell_type": "code",
   "execution_count": 3,
   "id": "ffcb685f",
   "metadata": {
    "vscode": {
     "languageId": "shellscript"
    }
   },
   "outputs": [],
   "source": [
    "mkdir RAW\n",
    "mv CPA* ./RAW"
   ]
  },
  {
   "cell_type": "markdown",
   "id": "ab5eae0e",
   "metadata": {},
   "source": [
    "Crear ligas simbolicas a esos archivos en la carpeta actual para facilitar operaciones futuras."
   ]
  },
  {
   "cell_type": "code",
   "execution_count": 4,
   "id": "f0ddc81f",
   "metadata": {
    "vscode": {
     "languageId": "shellscript"
    }
   },
   "outputs": [],
   "source": [
    "ln -s ./RAW/CPA-00245-25-P1-1_S2_L001_R1_001.fastq.gz R1.fq.gz\n",
    "ln -s ./RAW/CPA-00245-25-P1-1_S2_L001_R2_001.fastq.gz R2.fq.gz"
   ]
  },
  {
   "cell_type": "markdown",
   "id": "e6809c5a",
   "metadata": {},
   "source": [
    "Crear un directorio para depositar el análisis de calidad de lecturas crudas:"
   ]
  },
  {
   "cell_type": "code",
   "execution_count": 6,
   "id": "57c94591",
   "metadata": {
    "vscode": {
     "languageId": "shellscript"
    }
   },
   "outputs": [],
   "source": [
    "mkdir CALIDAD_CRUDA"
   ]
  },
  {
   "cell_type": "markdown",
   "id": "4ef4f8e7",
   "metadata": {
    "vscode": {
     "languageId": "shellscript"
    }
   },
   "source": [
    "Ejecutar el análisis de calidad. Usar ambiente calidad"
   ]
  },
  {
   "cell_type": "code",
   "execution_count": 71,
   "id": "80e52d37",
   "metadata": {
    "vscode": {
     "languageId": "shellscript"
    }
   },
   "outputs": [],
   "source": [
    "conda activate calidad"
   ]
  },
  {
   "cell_type": "code",
   "execution_count": 9,
   "id": "c21312ba",
   "metadata": {
    "vscode": {
     "languageId": "shellscript"
    }
   },
   "outputs": [
    {
     "name": "stdout",
     "output_type": "stream",
     "text": [
      "application/gzip\n",
      "application/gzip\n",
      "Started analysis of R1.fq.gz\n",
      "Started analysis of R2.fq.gz\n",
      "Approx 5% complete for R1.fq.gz\n",
      "Approx 5% complete for R2.fq.gz\n",
      "Approx 10% complete for R1.fq.gz\n",
      "Approx 10% complete for R2.fq.gz\n",
      "Approx 15% complete for R1.fq.gz\n",
      "Approx 15% complete for R2.fq.gz\n",
      "Approx 20% complete for R1.fq.gz\n",
      "Approx 25% complete for R1.fq.gz\n",
      "Approx 20% complete for R2.fq.gz\n",
      "Approx 25% complete for R2.fq.gz\n",
      "Approx 30% complete for R1.fq.gz\n",
      "Approx 30% complete for R2.fq.gz\n",
      "Approx 35% complete for R1.fq.gz\n",
      "Approx 35% complete for R2.fq.gz\n",
      "Approx 40% complete for R1.fq.gz\n",
      "Approx 40% complete for R2.fq.gz\n",
      "Approx 45% complete for R1.fq.gz\n",
      "Approx 45% complete for R2.fq.gz\n",
      "Approx 50% complete for R1.fq.gz\n",
      "Approx 50% complete for R2.fq.gz\n",
      "Approx 55% complete for R1.fq.gz\n",
      "Approx 55% complete for R2.fq.gz\n",
      "Approx 60% complete for R1.fq.gz\n",
      "Approx 60% complete for R2.fq.gz\n",
      "Approx 65% complete for R1.fq.gz\n",
      "Approx 65% complete for R2.fq.gz\n",
      "Approx 70% complete for R1.fq.gz\n",
      "Approx 70% complete for R2.fq.gz\n",
      "Approx 75% complete for R1.fq.gz\n",
      "Approx 75% complete for R2.fq.gz\n",
      "Approx 80% complete for R1.fq.gz\n",
      "Approx 80% complete for R2.fq.gz\n",
      "Approx 85% complete for R1.fq.gz\n",
      "Approx 85% complete for R2.fq.gz\n",
      "Approx 90% complete for R1.fq.gz\n",
      "Approx 90% complete for R2.fq.gz\n",
      "Approx 95% complete for R1.fq.gz\n",
      "Approx 95% complete for R2.fq.gz\n",
      "Analysis complete for R1.fq.gz\n",
      "Analysis complete for R2.fq.gz\n"
     ]
    }
   ],
   "source": [
    "fastqc R1.fq.gz R2.fq.gz --outdir ./CALIDAD_CRUDA --threads 14 "
   ]
  },
  {
   "cell_type": "markdown",
   "id": "d1d7fb94",
   "metadata": {},
   "source": [
    "Revisar los archivos HTML de salida para identificar parámetros que ayuden a la limpieza. Esto se puede lograr transfiriendo los archivos HTML a una computadora local y visualizando en un navedador de internet.\n",
    "\n",
    "Ejecutar el programa de limpieza. Ajustar parámetros de acuerdo a las necesidades. Cuidado al modificar los cores (ver documentación). Los resultados se guardarán en ./TRIMMING/\n"
   ]
  },
  {
   "cell_type": "code",
   "execution_count": 74,
   "id": "d130f538",
   "metadata": {
    "vscode": {
     "languageId": "shellscript"
    }
   },
   "outputs": [
    {
     "name": "stdout",
     "output_type": "stream",
     "text": [
      "Path to Cutadapt set as: 'cutadapt' (default)\n",
      "Cutadapt seems to be working fine (tested command 'cutadapt --version')\n",
      "Cutadapt version: 4.9\n",
      "Could not detect version of Python used by Cutadapt from the first line of Cutadapt (but found this: >>>#!/bin/sh<<<)\n",
      "Letting the (modified) Cutadapt deal with the Python version instead\n",
      "pigz 2.8\n",
      "Parallel gzip (pigz) detected. Proceeding with multicore (de)compression using 6 cores\n",
      "\n",
      "igzip command line interface 2.31.0\n",
      "igzip detected. Using igzip for decompressing\n",
      "\n",
      "No quality encoding type selected. Assuming that the data provided uses Sanger encoded Phred scores (default)\n",
      "\n",
      "Output directory TRIMMING/ doesn't exist, creating it for you...\n",
      "\n",
      "Output will be written into the directory: /home/admcenapa/DAVID_RENDON/TRABAJO/2025/CPA_TEST/TRIMMING/\n",
      "\n",
      "\n",
      "AUTO-DETECTING ADAPTER TYPE\n",
      "===========================\n",
      "Attempting to auto-detect adapter type from the first 1 million sequences of the first file (>> R1.fq.gz <<)\n",
      "\n",
      "Found perfect matches for the following adapter sequences:\n",
      "Adapter type\tCount\tSequence\tSequences analysed\tPercentage\n",
      "Nextera\t33\tCTGTCTCTTATA\t694298\t0.00\n",
      "Illumina\t0\tAGATCGGAAGAGC\t694298\t0.00\n",
      "smallRNA\t0\tTGGAATTCTCGG\t694298\t0.00\n",
      "Using Nextera adapter for trimming (count: 33). Second best hit was Illumina (count: 0)\n",
      "\n",
      "Writing report to '/home/admcenapa/DAVID_RENDON/TRABAJO/2025/CPA_TEST/TRIMMING/R1.fq.gz_trimming_report.txt'\n",
      "\n",
      "SUMMARISING RUN PARAMETERS\n",
      "==========================\n",
      "Input filename: R1.fq.gz\n",
      "Trimming mode: paired-end\n",
      "Trim Galore version: 0.6.10\n",
      "Cutadapt version: 4.9\n",
      "Python version: could not detect\n",
      "Number of cores used for trimming: 6\n",
      "Quality Phred score cutoff: 20\n",
      "Quality encoding type selected: ASCII+33\n",
      "Adapter sequence: 'CTGTCTCTTATA' (Nextera Transposase sequence; auto-detected)\n",
      "Maximum trimming error rate: 0.1 (default)\n",
      "Minimum required adapter overlap (stringency): 1 bp\n",
      "Minimum required sequence length for both reads before a sequence pair gets removed: 100 bp\n",
      "Length cut-off for read 1: 35 bp (default)\n",
      "Length cut-off for read 2: 35 bb (default)\n",
      "All Read 1 sequences will be trimmed by 16 bp from their 5' end to avoid poor qualities or biases\n",
      "All Read 2 sequences will be trimmed by 16 bp from their 5' end to avoid poor qualities or biases (e.g. M-bias for BS-Seq applications)\n",
      "All Read 1 sequences will be trimmed by 2 bp from their 3' end to avoid poor qualities or biases\n",
      "All Read 2 sequences will be trimmed by 2 bp from their 3' end to avoid poor qualities or biases\n",
      "Running FastQC on the data once trimming has completed\n",
      "Output file(s) will be GZIP compressed\n",
      "\n",
      "Cutadapt seems to be fairly up-to-date (version 4.9). Setting -j 6\n",
      "Writing final adapter and quality trimmed output to R1_trimmed.fq.gz\n",
      "\n",
      "\n",
      "  >>> Now performing quality (cutoff '-q 20') and adapter trimming in a single pass for the adapter sequence: 'CTGTCTCTTATA' from file R1.fq.gz <<< \n",
      "This is cutadapt 4.9 with Python 3.12.2\n",
      "Command line parameters: -j 6 -e 0.1 -q 20 -O 1 -a CTGTCTCTTATA R1.fq.gz\n",
      "Processing single-end reads on 6 cores ...\n",
      "Finished in 5.694 s (8.200 µs/read; 7.32 M reads/minute).\n",
      "\n",
      "=== Summary ===\n",
      "\n",
      "Total reads processed:                 694,298\n",
      "Reads with adapters:                    98,259 (14.2%)\n",
      "Reads written (passing filters):       694,298 (100.0%)\n",
      "\n",
      "Total basepairs processed:   103,009,489 bp\n",
      "Quality-trimmed:                  60,654 bp (0.1%)\n",
      "Total written (filtered):    102,808,247 bp (99.8%)\n",
      "\n",
      "=== Adapter 1 ===\n",
      "\n",
      "Sequence: CTGTCTCTTATA; Type: regular 3'; Length: 12; Trimmed: 98259 times\n",
      "\n",
      "Minimum overlap: 1\n",
      "No. of allowed errors:\n",
      "1-9 bp: 0; 10-12 bp: 1\n",
      "\n",
      "Bases preceding removed adapters:\n",
      "  A: 20.9%\n",
      "  C: 21.2%\n",
      "  G: 23.6%\n",
      "  T: 34.4%\n",
      "  none/other: 0.0%\n",
      "\n",
      "Overview of removed sequences\n",
      "length\tcount\texpect\tmax.err\terror counts\n",
      "1\t71552\t173574.5\t0\t71552\n",
      "2\t20458\t43393.6\t0\t20458\n",
      "3\t5342\t10848.4\t0\t5342\n",
      "4\t444\t2712.1\t0\t444\n",
      "5\t172\t678.0\t0\t172\n",
      "6\t8\t169.5\t0\t8\n",
      "7\t39\t42.4\t0\t39\n",
      "9\t137\t2.6\t0\t0 137\n",
      "10\t3\t0.7\t1\t0 3\n",
      "12\t3\t0.0\t1\t1 2\n",
      "15\t1\t0.0\t1\t0 1\n",
      "16\t2\t0.0\t1\t0 2\n",
      "17\t1\t0.0\t1\t0 1\n",
      "18\t1\t0.0\t1\t0 1\n",
      "21\t1\t0.0\t1\t0 1\n",
      "22\t1\t0.0\t1\t0 1\n",
      "23\t2\t0.0\t1\t1 1\n",
      "25\t2\t0.0\t1\t2\n",
      "26\t1\t0.0\t1\t0 1\n",
      "29\t2\t0.0\t1\t2\n",
      "30\t1\t0.0\t1\t0 1\n",
      "34\t2\t0.0\t1\t1 1\n",
      "35\t3\t0.0\t1\t3\n",
      "37\t1\t0.0\t1\t0 1\n",
      "41\t1\t0.0\t1\t0 1\n",
      "42\t2\t0.0\t1\t1 1\n",
      "43\t3\t0.0\t1\t2 1\n",
      "45\t1\t0.0\t1\t1\n",
      "47\t2\t0.0\t1\t1 1\n",
      "48\t1\t0.0\t1\t1\n",
      "51\t1\t0.0\t1\t1\n",
      "52\t1\t0.0\t1\t1\n",
      "53\t1\t0.0\t1\t0 1\n",
      "57\t1\t0.0\t1\t0 1\n",
      "58\t1\t0.0\t1\t0 1\n",
      "59\t1\t0.0\t1\t0 1\n",
      "60\t2\t0.0\t1\t0 2\n",
      "61\t2\t0.0\t1\t0 2\n",
      "62\t1\t0.0\t1\t0 1\n",
      "64\t2\t0.0\t1\t1 1\n",
      "65\t2\t0.0\t1\t0 2\n",
      "68\t1\t0.0\t1\t0 1\n",
      "71\t2\t0.0\t1\t1 1\n",
      "73\t5\t0.0\t1\t1 4\n",
      "74\t3\t0.0\t1\t0 3\n",
      "75\t2\t0.0\t1\t2\n",
      "76\t2\t0.0\t1\t1 1\n",
      "77\t3\t0.0\t1\t1 2\n",
      "79\t2\t0.0\t1\t0 2\n",
      "85\t2\t0.0\t1\t1 1\n",
      "89\t1\t0.0\t1\t1\n",
      "97\t1\t0.0\t1\t1\n",
      "99\t1\t0.0\t1\t1\n",
      "103\t1\t0.0\t1\t0 1\n",
      "104\t1\t0.0\t1\t0 1\n",
      "107\t1\t0.0\t1\t0 1\n",
      "109\t1\t0.0\t1\t1\n",
      "110\t1\t0.0\t1\t1\n",
      "112\t1\t0.0\t1\t1\n",
      "113\t1\t0.0\t1\t1\n",
      "118\t1\t0.0\t1\t0 1\n",
      "119\t1\t0.0\t1\t0 1\n",
      "124\t1\t0.0\t1\t0 1\n",
      "130\t1\t0.0\t1\t0 1\n",
      "139\t1\t0.0\t1\t0 1\n",
      "144\t1\t0.0\t1\t0 1\n",
      "145\t1\t0.0\t1\t0 1\n",
      "146\t15\t0.0\t1\t0 15\n",
      "150\t1\t0.0\t1\t0 1\n",
      "\n",
      "RUN STATISTICS FOR INPUT FILE: R1.fq.gz\n",
      "=============================================\n",
      "694298 sequences processed in total\n",
      "The length threshold of paired-end sequences gets evaluated later on (in the validation step)\n",
      "\n",
      "Writing report to '/home/admcenapa/DAVID_RENDON/TRABAJO/2025/CPA_TEST/TRIMMING/R2.fq.gz_trimming_report.txt'\n",
      "\n",
      "SUMMARISING RUN PARAMETERS\n",
      "==========================\n",
      "Input filename: R2.fq.gz\n",
      "Trimming mode: paired-end\n",
      "Trim Galore version: 0.6.10\n",
      "Cutadapt version: 4.9\n",
      "Python version: could not detect\n",
      "Number of cores used for trimming: 6\n",
      "Quality Phred score cutoff: 20\n",
      "Quality encoding type selected: ASCII+33\n",
      "Adapter sequence: 'CTGTCTCTTATA' (Nextera Transposase sequence; auto-detected)\n",
      "Maximum trimming error rate: 0.1 (default)\n",
      "Minimum required adapter overlap (stringency): 1 bp\n",
      "Minimum required sequence length for both reads before a sequence pair gets removed: 100 bp\n",
      "Length cut-off for read 1: 35 bp (default)\n",
      "Length cut-off for read 2: 35 bb (default)\n",
      "All Read 1 sequences will be trimmed by 16 bp from their 5' end to avoid poor qualities or biases\n",
      "All Read 2 sequences will be trimmed by 16 bp from their 5' end to avoid poor qualities or biases (e.g. M-bias for BS-Seq applications)\n",
      "All Read 1 sequences will be trimmed by 2 bp from their 3' end to avoid poor qualities or biases\n",
      "All Read 2 sequences will be trimmed by 2 bp from their 3' end to avoid poor qualities or biases\n",
      "Running FastQC on the data once trimming has completed\n",
      "Output file(s) will be GZIP compressed\n",
      "\n",
      "Cutadapt seems to be fairly up-to-date (version 4.9). Setting -j -j 6\n",
      "Writing final adapter and quality trimmed output to R2_trimmed.fq.gz\n",
      "\n",
      "\n",
      "  >>> Now performing quality (cutoff '-q 20') and adapter trimming in a single pass for the adapter sequence: 'CTGTCTCTTATA' from file R2.fq.gz <<< \n",
      "This is cutadapt 4.9 with Python 3.12.2\n",
      "Command line parameters: -j 6 -e 0.1 -q 20 -O 1 -a CTGTCTCTTATA R2.fq.gz\n",
      "Processing single-end reads on 6 cores ...\n",
      "Finished in 4.840 s (6.971 µs/read; 8.61 M reads/minute).\n",
      "\n",
      "=== Summary ===\n",
      "\n",
      "Total reads processed:                 694,298\n",
      "Reads with adapters:                   105,338 (15.2%)\n",
      "Reads written (passing filters):       694,298 (100.0%)\n",
      "\n",
      "Total basepairs processed:   103,008,972 bp\n",
      "Quality-trimmed:                 177,867 bp (0.2%)\n",
      "Total written (filtered):    102,681,651 bp (99.7%)\n",
      "\n",
      "=== Adapter 1 ===\n",
      "\n",
      "Sequence: CTGTCTCTTATA; Type: regular 3'; Length: 12; Trimmed: 105338 times\n",
      "\n",
      "Minimum overlap: 1\n",
      "No. of allowed errors:\n",
      "1-9 bp: 0; 10-12 bp: 1\n",
      "\n",
      "Bases preceding removed adapters:\n",
      "  A: 20.6%\n",
      "  C: 21.1%\n",
      "  G: 23.6%\n",
      "  T: 34.7%\n",
      "  none/other: 0.0%\n",
      "\n",
      "Overview of removed sequences\n",
      "length\tcount\texpect\tmax.err\terror counts\n",
      "1\t76926\t173574.5\t0\t76926\n",
      "2\t21008\t43393.6\t0\t21008\n",
      "3\t6260\t10848.4\t0\t6260\n",
      "4\t679\t2712.1\t0\t679\n",
      "5\t168\t678.0\t0\t168\n",
      "6\t12\t169.5\t0\t12\n",
      "7\t32\t42.4\t0\t32\n",
      "8\t3\t10.6\t0\t3\n",
      "9\t142\t2.6\t0\t0 142\n",
      "10\t6\t0.7\t1\t0 6\n",
      "14\t1\t0.0\t1\t0 1\n",
      "16\t1\t0.0\t1\t0 1\n",
      "18\t2\t0.0\t1\t0 2\n",
      "20\t1\t0.0\t1\t0 1\n",
      "21\t3\t0.0\t1\t0 3\n",
      "22\t3\t0.0\t1\t1 2\n",
      "23\t5\t0.0\t1\t3 2\n",
      "26\t3\t0.0\t1\t1 2\n",
      "27\t4\t0.0\t1\t0 4\n",
      "28\t2\t0.0\t1\t1 1\n",
      "29\t2\t0.0\t1\t1 1\n",
      "30\t2\t0.0\t1\t0 2\n",
      "31\t1\t0.0\t1\t1\n",
      "32\t1\t0.0\t1\t0 1\n",
      "33\t1\t0.0\t1\t0 1\n",
      "35\t1\t0.0\t1\t1\n",
      "36\t1\t0.0\t1\t1\n",
      "37\t2\t0.0\t1\t0 2\n",
      "38\t2\t0.0\t1\t1 1\n",
      "41\t1\t0.0\t1\t0 1\n",
      "42\t2\t0.0\t1\t1 1\n",
      "43\t5\t0.0\t1\t3 2\n",
      "44\t1\t0.0\t1\t1\n",
      "46\t1\t0.0\t1\t0 1\n",
      "47\t1\t0.0\t1\t0 1\n",
      "48\t1\t0.0\t1\t1\n",
      "51\t1\t0.0\t1\t0 1\n",
      "52\t1\t0.0\t1\t0 1\n",
      "56\t3\t0.0\t1\t1 2\n",
      "58\t2\t0.0\t1\t1 1\n",
      "60\t1\t0.0\t1\t0 1\n",
      "62\t1\t0.0\t1\t0 1\n",
      "67\t1\t0.0\t1\t0 1\n",
      "71\t1\t0.0\t1\t0 1\n",
      "72\t1\t0.0\t1\t0 1\n",
      "73\t3\t0.0\t1\t1 2\n",
      "74\t3\t0.0\t1\t0 3\n",
      "75\t2\t0.0\t1\t1 1\n",
      "79\t1\t0.0\t1\t0 1\n",
      "81\t1\t0.0\t1\t1\n",
      "82\t1\t0.0\t1\t1\n",
      "83\t1\t0.0\t1\t1\n",
      "84\t2\t0.0\t1\t1 1\n",
      "86\t1\t0.0\t1\t1\n",
      "89\t1\t0.0\t1\t1\n",
      "93\t1\t0.0\t1\t0 1\n",
      "97\t2\t0.0\t1\t0 2\n",
      "100\t1\t0.0\t1\t0 1\n",
      "101\t1\t0.0\t1\t0 1\n",
      "103\t1\t0.0\t1\t0 1\n",
      "108\t1\t0.0\t1\t1\n",
      "109\t1\t0.0\t1\t1\n",
      "110\t1\t0.0\t1\t1\n",
      "117\t1\t0.0\t1\t0 1\n",
      "122\t1\t0.0\t1\t0 1\n",
      "124\t1\t0.0\t1\t0 1\n",
      "128\t1\t0.0\t1\t0 1\n",
      "134\t1\t0.0\t1\t0 1\n",
      "146\t8\t0.0\t1\t0 8\n",
      "148\t1\t0.0\t1\t0 1\n",
      "149\t1\t0.0\t1\t0 1\n",
      "\n",
      "RUN STATISTICS FOR INPUT FILE: R2.fq.gz\n",
      "=============================================\n",
      "694298 sequences processed in total\n",
      "The length threshold of paired-end sequences gets evaluated later on (in the validation step)\n",
      "\n",
      "Validate paired-end files R1_trimmed.fq.gz and R2_trimmed.fq.gz\n",
      "file_1: R1_trimmed.fq.gz, file_2: R2_trimmed.fq.gz\n",
      "\n",
      "\n",
      ">>>>> Now validing the length of the 2 paired-end infiles: R1_trimmed.fq.gz and R2_trimmed.fq.gz <<<<<\n",
      "Writing validated paired-end Read 1 reads to R1_val_1.fq.gz\n",
      "Writing validated paired-end Read 2 reads to R2_val_2.fq.gz\n",
      "\n",
      "Writing unpaired read 1 reads to R1_unpaired_1.fq.gz\n",
      "Writing unpaired read 2 reads to R2_unpaired_2.fq.gz\n",
      "\n",
      "Total number of sequences analysed: 694298\n",
      "\n",
      "Number of sequence pairs removed because at least one read was shorter than the length cutoff (100 bp): 20105 (2.90%)\n",
      "Number of unpaired read 1 reads printed: 18341\n",
      "Number of unpaired read 2 reads printed: 18153\n",
      "\n",
      "\n",
      "  >>> Now running FastQC on the validated data R1_val_1.fq.gz<<<\n",
      "\n",
      "application/gzip\n",
      "Started analysis of R1_val_1.fq.gz\n",
      "Approx 5% complete for R1_val_1.fq.gz\n",
      "Approx 10% complete for R1_val_1.fq.gz\n",
      "Approx 15% complete for R1_val_1.fq.gz\n",
      "Approx 20% complete for R1_val_1.fq.gz\n",
      "Approx 25% complete for R1_val_1.fq.gz\n",
      "Approx 30% complete for R1_val_1.fq.gz\n",
      "Approx 35% complete for R1_val_1.fq.gz\n",
      "Approx 40% complete for R1_val_1.fq.gz\n",
      "Approx 45% complete for R1_val_1.fq.gz\n",
      "Approx 50% complete for R1_val_1.fq.gz\n",
      "Approx 55% complete for R1_val_1.fq.gz\n",
      "Approx 60% complete for R1_val_1.fq.gz\n",
      "Approx 65% complete for R1_val_1.fq.gz\n",
      "Approx 70% complete for R1_val_1.fq.gz\n",
      "Approx 75% complete for R1_val_1.fq.gz\n",
      "Approx 80% complete for R1_val_1.fq.gz\n",
      "Approx 85% complete for R1_val_1.fq.gz\n",
      "Approx 90% complete for R1_val_1.fq.gz\n",
      "Approx 95% complete for R1_val_1.fq.gz\n",
      "Analysis complete for R1_val_1.fq.gz\n",
      "\n",
      "  >>> Now running FastQC on the validated data R2_val_2.fq.gz<<<\n",
      "\n",
      "application/gzip\n",
      "Started analysis of R2_val_2.fq.gz\n",
      "Approx 5% complete for R2_val_2.fq.gz\n",
      "Approx 10% complete for R2_val_2.fq.gz\n",
      "Approx 15% complete for R2_val_2.fq.gz\n",
      "Approx 20% complete for R2_val_2.fq.gz\n",
      "Approx 25% complete for R2_val_2.fq.gz\n",
      "Approx 30% complete for R2_val_2.fq.gz\n",
      "Approx 35% complete for R2_val_2.fq.gz\n",
      "Approx 40% complete for R2_val_2.fq.gz\n",
      "Approx 45% complete for R2_val_2.fq.gz\n",
      "Approx 50% complete for R2_val_2.fq.gz\n",
      "Approx 55% complete for R2_val_2.fq.gz\n",
      "Approx 60% complete for R2_val_2.fq.gz\n",
      "Approx 65% complete for R2_val_2.fq.gz\n",
      "Approx 70% complete for R2_val_2.fq.gz\n",
      "Approx 75% complete for R2_val_2.fq.gz\n",
      "Approx 80% complete for R2_val_2.fq.gz\n",
      "Approx 85% complete for R2_val_2.fq.gz\n",
      "Approx 90% complete for R2_val_2.fq.gz\n",
      "Approx 95% complete for R2_val_2.fq.gz\n",
      "Analysis complete for R2_val_2.fq.gz\n",
      "Deleting both intermediate output files R1_trimmed.fq.gz and R2_trimmed.fq.gz\n",
      "\n",
      "====================================================================================================\n",
      "\n"
     ]
    }
   ],
   "source": [
    "trim_galore --paired --retain_unpaired --gzip --fastqc --cores 6 --clip_R1 16 --clip_R2 16 --three_prime_clip_R1 2 --three_prime_clip_R2 2 --length 100 -o TRIMMING/ R1.fq.gz R2.fq.gz"
   ]
  },
  {
   "cell_type": "code",
   "execution_count": 75,
   "id": "56652a9c",
   "metadata": {
    "vscode": {
     "languageId": "shellscript"
    }
   },
   "outputs": [],
   "source": [
    "conda deactivate"
   ]
  },
  {
   "cell_type": "markdown",
   "id": "683811b1",
   "metadata": {},
   "source": [
    "Revisar los archivos HTML de salida para verificar los resultados de la limpieza. Queda a consideración de la experiencia del usuario el quedar conforme con la limpieza realizada."
   ]
  },
  {
   "cell_type": "markdown",
   "id": "c8b164b4",
   "metadata": {},
   "source": [
    "## ALINEAMIENTO DE LECTURAS CONTRA BASE DE DATOS DE INFLUENZA"
   ]
  },
  {
   "cell_type": "markdown",
   "id": "eaa67181",
   "metadata": {},
   "source": [
    "Hacer directorio para los alineamientos:"
   ]
  },
  {
   "cell_type": "code",
   "execution_count": 76,
   "id": "ecc3691a",
   "metadata": {
    "vscode": {
     "languageId": "shellscript"
    }
   },
   "outputs": [],
   "source": [
    "mkdir -p ALINEAMIENTO/BWA/ALL_SEGMENTS_MAPPING"
   ]
  },
  {
   "cell_type": "markdown",
   "id": "680649de",
   "metadata": {},
   "source": [
    "Crear ligas simbolicas a los archivos a usar:"
   ]
  },
  {
   "cell_type": "code",
   "execution_count": 77,
   "id": "d4f86675",
   "metadata": {
    "vscode": {
     "languageId": "shellscript"
    }
   },
   "outputs": [],
   "source": [
    "ln -s TRIMMING/R1_val_1.fq.gz reads_r1_tr\n",
    "ln -s TRIMMING/R2_val_2.fq.gz reads_r2_tr\n",
    "ln -s TRIMMING/R1_unpaired_1.fq.gz reads_u1_tr\n",
    "ln -s TRIMMING/R2_unpaired_2.fq.gz reads_u2_tr"
   ]
  },
  {
   "cell_type": "markdown",
   "id": "0b87373f",
   "metadata": {},
   "source": [
    "Activar ambiente conda alineamiento"
   ]
  },
  {
   "cell_type": "code",
   "execution_count": 78,
   "id": "adfa9d36",
   "metadata": {
    "vscode": {
     "languageId": "shellscript"
    }
   },
   "outputs": [],
   "source": [
    "conda activate alineamiento"
   ]
  },
  {
   "cell_type": "markdown",
   "id": "f89e5163",
   "metadata": {},
   "source": [
    "Hacer los alineamientos de las secuencias pareadas y no pareadas contra la base de datos viral preparada en la UASIP."
   ]
  },
  {
   "cell_type": "code",
   "execution_count": 79,
   "id": "02f83e43",
   "metadata": {
    "vscode": {
     "languageId": "shellscript"
    }
   },
   "outputs": [
    {
     "name": "stdout",
     "output_type": "stream",
     "text": [
      "Looking to launch executable \"/home/admcenapa/anaconda3/envs/alineamiento/bin/bwa-mem2.sse42\", simd = .sse42\n",
      "Launching executable \"/home/admcenapa/anaconda3/envs/alineamiento/bin/bwa-mem2.sse42\"\n"
     ]
    },
    {
     "name": "stdout",
     "output_type": "stream",
     "text": [
      "-----------------------------\n",
      "Executing in SSE4.2 mode!!\n",
      "-----------------------------\n",
      "* SA compression enabled with xfactor: 8\n",
      "* Ref file: /backup/DATABASES/UASIP/BWAMEM2/INFLUENZA/influenza_db.fna\n",
      "* Entering FMI_search\n",
      "* Index file found. Loading index from /backup/DATABASES/UASIP/BWAMEM2/INFLUENZA/influenza_db.fna.bwt.2bit.64\n",
      "* Reference seq len for bi-index = 3955021927\n",
      "* sentinel-index: 980727211\n",
      "* Count:\n",
      "0,\t1\n",
      "1,\t1120073114\n",
      "2,\t1977510964\n",
      "3,\t2834948814\n",
      "4,\t3955021927\n",
      "\n",
      "* Reading other elements of the index from files /backup/DATABASES/UASIP/BWAMEM2/INFLUENZA/influenza_db.fna\n",
      "* Index prefix: /backup/DATABASES/UASIP/BWAMEM2/INFLUENZA/influenza_db.fna\n",
      "* Read 0 ALT contigs\n",
      "* Done reading Index!!\n",
      "* Reading reference genome..\n",
      "* Binary seq file = /backup/DATABASES/UASIP/BWAMEM2/INFLUENZA/influenza_db.fna.0123\n",
      "* Reference genome size: 3955021926 bp\n",
      "* Done reading reference genome !!\n",
      "\n",
      "------------------------------------------\n",
      "1. Memory pre-allocation for Chaining: 2786.7754 MB\n",
      "2. Memory pre-allocation for BSW: 4792.3405 MB\n",
      "3. Memory pre-allocation for BWT: 1546.2835 MB\n",
      "------------------------------------------\n",
      "* Threads used (compute): 20\n",
      "* No. of pipeline threads: 2\n",
      "\n",
      "[0000] read_chunk: 200000000, work_chunk_size: 177679811, nseq: 1348386\n",
      "\t[0000][ M::kt_pipeline] read 1348386 sequences (177679811 bp)...\n",
      "[0000] Reallocating initial memory allocations!!\n",
      "[0000] read_chunk: 200000000, work_chunk_size: 0, nseq: 0\n",
      "[0000] Calling mem_process_seqs.., task: 0\n",
      "[0000] 1. Calling kt_for - worker_bwt\n",
      "[0000] 2. Calling kt_for - worker_aln\n",
      "[0000] Inferring insert size distribution of PE reads from data, l_pac: 1977510963, n: 1348386\n",
      "[0000][PE] # candidate unique pairs for (FF, FR, RF, RR): (0, 3, 0, 0)\n",
      "[0000][PE] skip orientation FF as there are not enough pairs\n",
      "[0000][PE] skip orientation FR as there are not enough pairs\n",
      "[0000][PE] skip orientation RF as there are not enough pairs\n",
      "[0000][PE] skip orientation RR as there are not enough pairs\n",
      "[0000] 3. Calling kt_for - worker_sam\n",
      "\t[0000][ M::mem_process_seqs] Processed 1348386 reads in 4839.232 CPU sec, 259.698 real sec\n",
      "[0000] read_chunk: 200000000, work_chunk_size: 0, nseq: 0\n",
      "[0000] Computation ends..\n",
      "No. of OMP threads: 20\n",
      "Processor is running @2297.765980 MHz\n",
      "Runtime profile:\n",
      "\n",
      "\tTime taken for main_mem function: 283.59 sec\n",
      "\n",
      "\tIO times (sec) :\n",
      "\tReading IO time (reads) avg: 3.62, (3.62, 3.62)\n",
      "\tWriting IO time (SAM) avg: 7.92, (7.92, 7.92)\n",
      "\tReading IO time (Reference Genome) avg: 3.69, (3.69, 3.69)\n",
      "\tIndex read time avg: 6.04, (6.04, 6.04)\n",
      "\n",
      "\tOverall time (sec) (Excluding Index reading time):\n",
      "\tPROCESS() (Total compute time + (read + SAM) IO time) : 272.31\n",
      "\tMEM_PROCESS_SEQ() (Total compute time (Kernel + SAM)), avg: 259.65, (259.65, 259.65)\n",
      "\n",
      "\t SAM Processing time (sec):\n",
      "\t--WORKER_SAM avg: 25.19, (25.19, 25.19)\n",
      "\n",
      "\tKernels' compute time (sec):\n",
      "\tTotal kernel (smem+sal+bsw) time avg: 234.25, (234.25, 234.25)\n",
      "\t\tSMEM compute avg: 5.14, (5.60, 4.83)\n",
      "\t\tSAL compute avg: 52.85, (53.68, 51.41)\n",
      "\t\t\t\tMEM_SA avg: 11.35, (11.59, 10.93)\n",
      "\n",
      "\t\tBSW time, avg: 94.58, (95.85, 93.43)\n",
      "\n",
      "Important parameter settings: \n",
      "\tBATCH_SIZE: 512\n",
      "\tMAX_SEQ_LEN_REF: 256\n",
      "\tMAX_SEQ_LEN_QER: 128\n",
      "\tMAX_SEQ_LEN8: 128\n",
      "\tSEEDS_PER_READ: 500\n",
      "\tSIMD_WIDTH8 X: 16\n",
      "\tSIMD_WIDTH16 X: 8\n",
      "\tAVG_SEEDS_PER_READ: 64\n",
      "Looking to launch executable \"/home/admcenapa/anaconda3/envs/alineamiento/bin/bwa-mem2.sse42\", simd = .sse42\n",
      "Launching executable \"/home/admcenapa/anaconda3/envs/alineamiento/bin/bwa-mem2.sse42\"\n",
      "-----------------------------\n",
      "Executing in SSE4.2 mode!!\n",
      "-----------------------------\n",
      "* SA compression enabled with xfactor: 8\n",
      "* Ref file: /backup/DATABASES/UASIP/BWAMEM2/INFLUENZA/influenza_db.fna\n",
      "* Entering FMI_search\n",
      "* Index file found. Loading index from /backup/DATABASES/UASIP/BWAMEM2/INFLUENZA/influenza_db.fna.bwt.2bit.64\n",
      "* Reference seq len for bi-index = 3955021927\n",
      "* sentinel-index: 980727211\n",
      "* Count:\n",
      "0,\t1\n",
      "1,\t1120073114\n",
      "2,\t1977510964\n",
      "3,\t2834948814\n",
      "4,\t3955021927\n",
      "\n",
      "* Reading other elements of the index from files /backup/DATABASES/UASIP/BWAMEM2/INFLUENZA/influenza_db.fna\n",
      "* Index prefix: /backup/DATABASES/UASIP/BWAMEM2/INFLUENZA/influenza_db.fna\n",
      "* Read 0 ALT contigs\n",
      "* Done reading Index!!\n",
      "* Reading reference genome..\n",
      "* Binary seq file = /backup/DATABASES/UASIP/BWAMEM2/INFLUENZA/influenza_db.fna.0123\n",
      "* Reference genome size: 3955021926 bp\n",
      "* Done reading reference genome !!\n",
      "\n",
      "------------------------------------------\n",
      "1. Memory pre-allocation for Chaining: 2786.7754 MB\n",
      "2. Memory pre-allocation for BSW: 4792.3405 MB\n",
      "3. Memory pre-allocation for BWT: 1546.2835 MB\n",
      "------------------------------------------\n",
      "* Threads used (compute): 20\n",
      "* No. of pipeline threads: 2\n",
      "\n",
      "[0000] read_chunk: 200000000, work_chunk_size: 1390754, nseq: 18341\n",
      "\t[0000][ M::kt_pipeline] read 18341 sequences (1390754 bp)...\n",
      "[0000] Calling mem_process_seqs.., task: 0\n",
      "[0000] 1. Calling kt_for - worker_bwt\n",
      "[0000] read_chunk: 200000000, work_chunk_size: 0, nseq: 0\n",
      "[0000] 2. Calling kt_for - worker_aln\n",
      "[0000] 3. Calling kt_for - worker_sam\n",
      "\t[0000][ M::mem_process_seqs] Processed 18341 reads in 75.709 CPU sec, 6.818 real sec\n",
      "[0000] read_chunk: 200000000, work_chunk_size: 0, nseq: 0\n",
      "[0000] Computation ends..\n",
      "No. of OMP threads: 20\n",
      "Processor is running @2297.850305 MHz\n",
      "Runtime profile:\n",
      "\n",
      "\tTime taken for main_mem function: 25.06 sec\n",
      "\n",
      "\tIO times (sec) :\n",
      "\tReading IO time (reads) avg: 0.12, (0.12, 0.12)\n",
      "\tWriting IO time (SAM) avg: 0.19, (0.19, 0.19)\n",
      "\tReading IO time (Reference Genome) avg: 2.32, (2.32, 2.32)\n",
      "\tIndex read time avg: 14.33, (14.33, 14.33)\n",
      "\n",
      "\tOverall time (sec) (Excluding Index reading time):\n",
      "\tPROCESS() (Total compute time + (read + SAM) IO time) : 7.20\n",
      "\tMEM_PROCESS_SEQ() (Total compute time (Kernel + SAM)), avg: 6.82, (6.82, 6.82)\n",
      "\n",
      "\t SAM Processing time (sec):\n",
      "\t--WORKER_SAM avg: 0.15, (0.15, 0.15)\n",
      "\n",
      "\tKernels' compute time (sec):\n",
      "\tTotal kernel (smem+sal+bsw) time avg: 6.67, (6.67, 6.67)\n",
      "\t\tSMEM compute avg: 0.05, (0.06, 0.03)\n",
      "\t\tSAL compute avg: 3.09, (3.40, 2.28)\n",
      "\t\t\t\tMEM_SA avg: 0.72, (0.82, 0.54)\n",
      "\n",
      "\t\tBSW time, avg: 1.39, (1.60, 1.14)\n",
      "\n",
      "Important parameter settings: \n",
      "\tBATCH_SIZE: 512\n",
      "\tMAX_SEQ_LEN_REF: 256\n",
      "\tMAX_SEQ_LEN_QER: 128\n",
      "\tMAX_SEQ_LEN8: 128\n",
      "\tSEEDS_PER_READ: 500\n",
      "\tSIMD_WIDTH8 X: 16\n",
      "\tSIMD_WIDTH16 X: 8\n",
      "\tAVG_SEEDS_PER_READ: 64\n",
      "Looking to launch executable \"/home/admcenapa/anaconda3/envs/alineamiento/bin/bwa-mem2.sse42\", simd = .sse42\n",
      "Launching executable \"/home/admcenapa/anaconda3/envs/alineamiento/bin/bwa-mem2.sse42\"\n",
      "-----------------------------\n",
      "Executing in SSE4.2 mode!!\n",
      "-----------------------------\n",
      "* SA compression enabled with xfactor: 8\n",
      "* Ref file: /backup/DATABASES/UASIP/BWAMEM2/INFLUENZA/influenza_db.fna\n",
      "* Entering FMI_search\n",
      "* Index file found. Loading index from /backup/DATABASES/UASIP/BWAMEM2/INFLUENZA/influenza_db.fna.bwt.2bit.64\n",
      "* Reference seq len for bi-index = 3955021927\n",
      "* sentinel-index: 980727211\n",
      "* Count:\n",
      "0,\t1\n",
      "1,\t1120073114\n",
      "2,\t1977510964\n",
      "3,\t2834948814\n",
      "4,\t3955021927\n",
      "\n",
      "* Reading other elements of the index from files /backup/DATABASES/UASIP/BWAMEM2/INFLUENZA/influenza_db.fna\n",
      "* Index prefix: /backup/DATABASES/UASIP/BWAMEM2/INFLUENZA/influenza_db.fna\n",
      "* Read 0 ALT contigs\n",
      "* Done reading Index!!\n",
      "* Reading reference genome..\n",
      "* Binary seq file = /backup/DATABASES/UASIP/BWAMEM2/INFLUENZA/influenza_db.fna.0123\n",
      "* Reference genome size: 3955021926 bp\n",
      "* Done reading reference genome !!\n",
      "\n",
      "------------------------------------------\n",
      "1. Memory pre-allocation for Chaining: 2786.7754 MB\n",
      "2. Memory pre-allocation for BSW: 4792.3405 MB\n",
      "3. Memory pre-allocation for BWT: 1546.2835 MB\n",
      "------------------------------------------\n",
      "* Threads used (compute): 20\n",
      "* No. of pipeline threads: 2\n",
      "\n",
      "[0000] read_chunk: 200000000, work_chunk_size: 1340617, nseq: 18153\n",
      "\t[0000][ M::kt_pipeline] read 18153 sequences (1340617 bp)...\n",
      "[0000] Calling mem_process_seqs.., task: 0\n",
      "[0000] 1. Calling kt_for - worker_bwt\n",
      "[0000] read_chunk: 200000000, work_chunk_size: 0, nseq: 0\n",
      "[0000] 2. Calling kt_for - worker_aln\n",
      "[0000] 3. Calling kt_for - worker_sam\n",
      "\t[0000][ M::mem_process_seqs] Processed 18153 reads in 85.876 CPU sec, 8.088 real sec\n",
      "[0000] read_chunk: 200000000, work_chunk_size: 0, nseq: 0\n",
      "[0000] Computation ends..\n",
      "No. of OMP threads: 20\n",
      "Processor is running @2297.767846 MHz\n",
      "Runtime profile:\n",
      "\n",
      "\tTime taken for main_mem function: 17.81 sec\n",
      "\n",
      "\tIO times (sec) :\n",
      "\tReading IO time (reads) avg: 0.09, (0.09, 0.09)\n",
      "\tWriting IO time (SAM) avg: 0.30, (0.30, 0.30)\n",
      "\tReading IO time (Reference Genome) avg: 2.18, (2.18, 2.18)\n",
      "\tIndex read time avg: 5.71, (5.71, 5.71)\n",
      "\n",
      "\tOverall time (sec) (Excluding Index reading time):\n",
      "\tPROCESS() (Total compute time + (read + SAM) IO time) : 8.61\n",
      "\tMEM_PROCESS_SEQ() (Total compute time (Kernel + SAM)), avg: 8.09, (8.09, 8.09)\n",
      "\n",
      "\t SAM Processing time (sec):\n",
      "\t--WORKER_SAM avg: 0.21, (0.21, 0.21)\n",
      "\n",
      "\tKernels' compute time (sec):\n",
      "\tTotal kernel (smem+sal+bsw) time avg: 7.88, (7.88, 7.88)\n",
      "\t\tSMEM compute avg: 0.05, (0.06, 0.03)\n",
      "\t\tSAL compute avg: 3.51, (3.98, 2.52)\n",
      "\t\t\t\tMEM_SA avg: 0.82, (0.93, 0.57)\n",
      "\n",
      "\t\tBSW time, avg: 1.57, (1.84, 1.27)\n",
      "\n",
      "Important parameter settings: \n",
      "\tBATCH_SIZE: 512\n",
      "\tMAX_SEQ_LEN_REF: 256\n",
      "\tMAX_SEQ_LEN_QER: 128\n",
      "\tMAX_SEQ_LEN8: 128\n",
      "\tSEEDS_PER_READ: 500\n",
      "\tSIMD_WIDTH8 X: 16\n",
      "\tSIMD_WIDTH16 X: 8\n",
      "\tAVG_SEEDS_PER_READ: 64\n"
     ]
    }
   ],
   "source": [
    "#Alineamiento de secuencias pareadas \n",
    "bwa-mem2 mem -t 20 /backup/DATABASES/UASIP/BWAMEM2/INFLUENZA/influenza_db.fna reads_r1_tr reads_r2_tr >ALINEAMIENTO/BWA/ALL_SEGMENTS_MAPPING/paired.sam \n",
    "\n",
    "#Alineamiento de secuencias no pareadas de R1\n",
    "bwa-mem2 mem -t 20 /backup/DATABASES/UASIP/BWAMEM2/INFLUENZA/influenza_db.fna reads_u1_tr >ALINEAMIENTO/BWA/ALL_SEGMENTS_MAPPING/unpaired_r1.sam\n",
    "\n",
    "#Alineamiento de secuencias no pareadas de R2\n",
    "bwa-mem2 mem -t 20 /backup/DATABASES/UASIP/BWAMEM2/INFLUENZA/influenza_db.fna reads_u2_tr >ALINEAMIENTO/BWA/ALL_SEGMENTS_MAPPING/unpaired_r2.sam"
   ]
  },
  {
   "cell_type": "markdown",
   "id": "9f2c2a00",
   "metadata": {},
   "source": [
    "Entrar al directorio donde se depositaron los resultados del alineamiento."
   ]
  },
  {
   "cell_type": "code",
   "execution_count": 80,
   "id": "d135c7ed",
   "metadata": {
    "vscode": {
     "languageId": "shellscript"
    }
   },
   "outputs": [],
   "source": [
    "cd ALINEAMIENTO/BWA/ALL_SEGMENTS_MAPPING "
   ]
  },
  {
   "cell_type": "markdown",
   "id": "4c06dab1",
   "metadata": {},
   "source": [
    "Formatear los archivos sam resultantes en un archivo bam ordenado."
   ]
  },
  {
   "cell_type": "code",
   "execution_count": 81,
   "id": "faa7d2b0",
   "metadata": {
    "vscode": {
     "languageId": "shellscript"
    }
   },
   "outputs": [
    {
     "name": "stdout",
     "output_type": "stream",
     "text": [
      "[W::bam_merge_core2] No @HD tag found.\n"
     ]
    }
   ],
   "source": [
    "samtools merge -u - paired.sam unpaired_r1.sam unpaired_r2.sam | samtools sort -o all_sorted.bam && rm paired.sam unpaired_r1.sam unpaired_r2.sam"
   ]
  },
  {
   "cell_type": "markdown",
   "id": "478b37d9",
   "metadata": {},
   "source": [
    "Regresar al directorio del proyecto:"
   ]
  },
  {
   "cell_type": "code",
   "execution_count": 82,
   "id": "0f7751df",
   "metadata": {
    "vscode": {
     "languageId": "shellscript"
    }
   },
   "outputs": [],
   "source": [
    "cd ../../../"
   ]
  },
  {
   "cell_type": "markdown",
   "id": "44b9f148",
   "metadata": {},
   "source": [
    "Crear ocho directorios para depositar las lecturas por el segmento al cual alinearon."
   ]
  },
  {
   "cell_type": "code",
   "execution_count": 83,
   "id": "f2bb6a3a",
   "metadata": {
    "vscode": {
     "languageId": "shellscript"
    }
   },
   "outputs": [],
   "source": [
    "mkdir ALINEAMIENTO/BWA/S{1..8}"
   ]
  },
  {
   "cell_type": "markdown",
   "id": "f3ff108c",
   "metadata": {},
   "source": [
    "Ejecutar el siguiente programa. Este programa abre el archivo bam, elimina alineamientos con alineamientos secundarios, y obtiene las lecturas por cada segmento. Se analiza, por segmento, el formato CIGAR asociado de cada lectura. Se filtran aquellas secuencias que alinearon en al menos 70% de sus bases. Se guardan los nombres de las lecturas pertinentes y se extraen las secuencias de los archivos fastq limpios usando dichos nombres. Los archivos producidos se guardan en las ubicaciones pertinentes."
   ]
  },
  {
   "cell_type": "code",
   "execution_count": 84,
   "id": "cfc10685",
   "metadata": {
    "vscode": {
     "languageId": "shellscript"
    }
   },
   "outputs": [
    {
     "name": "stdout",
     "output_type": "stream",
     "text": [
      "Procesando segmento 1\n"
     ]
    },
    {
     "name": "stdout",
     "output_type": "stream",
     "text": [
      "Extrayendo lecturas R1 del segmento 1\n",
      "[INFO]\u001b[0m 23640 patterns loaded from file\n",
      "Extrayendo lecturas R2 del segmento 1\n",
      "[INFO]\u001b[0m 23640 patterns loaded from file\n",
      "Extrayendo lecturas no pareadas de R1 del segmento 1\n",
      "[INFO]\u001b[0m 23640 patterns loaded from file\n",
      "Extrayendo lecturas no pareadas de R2 del segmento 1\n",
      "[INFO]\u001b[0m 23640 patterns loaded from file\n",
      "Procesando segmento 2\n",
      "Extrayendo lecturas R1 del segmento 2\n",
      "[INFO]\u001b[0m 23611 patterns loaded from file\n",
      "Extrayendo lecturas R2 del segmento 2\n",
      "[INFO]\u001b[0m 23611 patterns loaded from file\n",
      "Extrayendo lecturas no pareadas de R1 del segmento 2\n",
      "[INFO]\u001b[0m 23611 patterns loaded from file\n",
      "Extrayendo lecturas no pareadas de R2 del segmento 2\n",
      "[INFO]\u001b[0m 23611 patterns loaded from file\n",
      "Procesando segmento 3\n",
      "Extrayendo lecturas R1 del segmento 3\n",
      "[INFO]\u001b[0m 21462 patterns loaded from file\n",
      "Extrayendo lecturas R2 del segmento 3\n",
      "[INFO]\u001b[0m 21462 patterns loaded from file\n",
      "Extrayendo lecturas no pareadas de R1 del segmento 3\n",
      "[INFO]\u001b[0m 21462 patterns loaded from file\n",
      "Extrayendo lecturas no pareadas de R2 del segmento 3\n",
      "[INFO]\u001b[0m 21462 patterns loaded from file\n",
      "Procesando segmento 4\n",
      "Extrayendo lecturas R1 del segmento 4\n",
      "[INFO]\u001b[0m 79407 patterns loaded from file\n",
      "Extrayendo lecturas R2 del segmento 4\n",
      "[INFO]\u001b[0m 79407 patterns loaded from file\n",
      "Extrayendo lecturas no pareadas de R1 del segmento 4\n",
      "[INFO]\u001b[0m 79407 patterns loaded from file\n",
      "Extrayendo lecturas no pareadas de R2 del segmento 4\n",
      "[INFO]\u001b[0m 79407 patterns loaded from file\n",
      "Procesando segmento 5\n",
      "Extrayendo lecturas R1 del segmento 5\n",
      "[INFO]\u001b[0m 93584 patterns loaded from file\n",
      "Extrayendo lecturas R2 del segmento 5\n",
      "[INFO]\u001b[0m 93584 patterns loaded from file\n",
      "Extrayendo lecturas no pareadas de R1 del segmento 5\n",
      "[INFO]\u001b[0m 93584 patterns loaded from file\n",
      "Extrayendo lecturas no pareadas de R2 del segmento 5\n",
      "[INFO]\u001b[0m 93584 patterns loaded from file\n",
      "Procesando segmento 6\n",
      "Extrayendo lecturas R1 del segmento 6\n",
      "[INFO]\u001b[0m 99142 patterns loaded from file\n",
      "Extrayendo lecturas R2 del segmento 6\n",
      "[INFO]\u001b[0m 99142 patterns loaded from file\n",
      "Extrayendo lecturas no pareadas de R1 del segmento 6\n",
      "[INFO]\u001b[0m 99142 patterns loaded from file\n",
      "Extrayendo lecturas no pareadas de R2 del segmento 6\n",
      "[INFO]\u001b[0m 99142 patterns loaded from file\n",
      "Procesando segmento 7\n",
      "Extrayendo lecturas R1 del segmento 7\n",
      "[INFO]\u001b[0m 181409 patterns loaded from file\n",
      "Extrayendo lecturas R2 del segmento 7\n",
      "[INFO]\u001b[0m 181409 patterns loaded from file\n",
      "Extrayendo lecturas no pareadas de R1 del segmento 7\n",
      "[INFO]\u001b[0m 181409 patterns loaded from file\n",
      "Extrayendo lecturas no pareadas de R2 del segmento 7\n",
      "[INFO]\u001b[0m 181409 patterns loaded from file\n",
      "Procesando segmento 8\n",
      "Extrayendo lecturas R1 del segmento 8\n",
      "[INFO]\u001b[0m 171457 patterns loaded from file\n",
      "Extrayendo lecturas R2 del segmento 8\n",
      "[INFO]\u001b[0m 171457 patterns loaded from file\n",
      "Extrayendo lecturas no pareadas de R1 del segmento 8\n",
      "[INFO]\u001b[0m 171457 patterns loaded from file\n",
      "Extrayendo lecturas no pareadas de R2 del segmento 8\n",
      "[INFO]\u001b[0m 171457 patterns loaded from file\n"
     ]
    }
   ],
   "source": [
    "~/analisis_influenza/bin/separar_seqs_segmentos.sh"
   ]
  },
  {
   "cell_type": "markdown",
   "id": "e07c2f9f",
   "metadata": {},
   "source": [
    "## ENSAMBLE DE NOVO DE GENOMAS DE INFLUENZA"
   ]
  },
  {
   "cell_type": "markdown",
   "id": "5267dac2",
   "metadata": {},
   "source": [
    "Activar ambiente conda de los ensambladores"
   ]
  },
  {
   "cell_type": "code",
   "execution_count": 86,
   "id": "470688b2",
   "metadata": {
    "vscode": {
     "languageId": "shellscript"
    }
   },
   "outputs": [],
   "source": [
    "conda activate ensamble"
   ]
  },
  {
   "cell_type": "markdown",
   "id": "97574aa9",
   "metadata": {},
   "source": [
    "Activa una terminal tmux para que se encargue de enviar los procesos aunque salgamos del servidor"
   ]
  },
  {
   "cell_type": "code",
   "execution_count": null,
   "id": "d6f1eb3f",
   "metadata": {
    "vscode": {
     "languageId": "shellscript"
    }
   },
   "outputs": [],
   "source": [
    "tmux new -s ensamblaje"
   ]
  },
  {
   "cell_type": "markdown",
   "id": "8e6a4b13",
   "metadata": {},
   "source": [
    "Pegar el siguiente código de instrucciones en la terminal tmux. Este paso está diseñado para ejecutarse sobre todos los segmentos virales. Es importante revisar cada archivo log de cada subcarpeta para verificar que se haya ejecutado todos los procesos, desde el kmer 11 al kmer 127. Se hace en terminal tmux para que el ciclo no caiga cuando se termine la conexion con el servidor."
   ]
  },
  {
   "cell_type": "code",
   "execution_count": null,
   "id": "e6eaabd9",
   "metadata": {
    "vscode": {
     "languageId": "shellscript"
    }
   },
   "outputs": [
    {
     "name": "stdout",
     "output_type": "stream",
     "text": [
      "[1] 2748085\n",
      "nohup: se descarta la entrada y se añade la salida a 'nohup.out'\n"
     ]
    }
   ],
   "source": [
    "for i in {1..8}; do\n",
    "    ID=\"S${i}\"\n",
    "    id=\"s${i}\"\n",
    "    LOG=\"./ENSAMBLE/SPADES/${ID}/log_11_127_${ID}\"\n",
    "    mkdir -p \"./ENSAMBLE/SPADES/${ID}\"\n",
    "\n",
    "    TMP_SCRIPT=$(mktemp /tmp/run_${ID}_XXXXXX.sh)\n",
    "\n",
    "    cat > \"$TMP_SCRIPT\" <<EOF\n",
    "#!/bin/bash\n",
    "\n",
    "{\n",
    "    echo \"===== Iniciando proceso para ${ID} =====\"\n",
    "    echo \"Inicio: \\$(date)\"\n",
    "} >> \"$LOG\"\n",
    "\n",
    "~/analisis_influenza/bin/ensamble.sh \\\\\n",
    "    -a \"./ALINEAMIENTO/BWA/${ID}/${id}_reads_r1.fq.gz\" \\\\\n",
    "    -b \"./ALINEAMIENTO/BWA/${ID}/${id}_reads_r2.fq.gz\" \\\\\n",
    "    -x \"./ALINEAMIENTO/BWA/${ID}/${id}_reads_u1.fq.gz\" \\\\\n",
    "    -y \"./ALINEAMIENTO/BWA/${ID}/${id}_reads_u2.fq.gz\" \\\\\n",
    "    -t 26 --kini 11 --kfin 127 -o ./ENSAMBLE/SPADES/${ID}/OUT_11_127 >> \"$LOG\" 2>&1\n",
    "\n",
    "{\n",
    "    echo \"Fin: \\$(date)\"\n",
    "    echo \"===== Finalizó proceso para ${ID} =====\"\n",
    "    echo\n",
    "} >> \"$LOG\"\n",
    "\n",
    "rm -- \"\\$0\"\n",
    "EOF\n",
    "\n",
    "    chmod +x \"$TMP_SCRIPT\"\n",
    "    nohup \"$TMP_SCRIPT\" &\n",
    "    wait\n",
    "done"
   ]
  },
  {
   "cell_type": "markdown",
   "id": "88f64afe",
   "metadata": {},
   "source": [
    "Se puede cerrar sesion con Ctrl + B, luego suelta y presiona D. Para reconectar la terminal tmux usar tmux attach -t ensamblaje\n",
    "\n",
    "Monitorear que el proceso haya concluido, revisando periodicamente los archivos log."
   ]
  },
  {
   "cell_type": "code",
   "execution_count": 3,
   "id": "8cc515b7",
   "metadata": {
    "vscode": {
     "languageId": "shellscript"
    }
   },
   "outputs": [
    {
     "name": "stdout",
     "output_type": "stream",
     "text": [
      "/home/admcenapa/DAVID_RENDON/TRABAJO/2025/CPA_TEST\n"
     ]
    }
   ],
   "source": [
    "pwd"
   ]
  },
  {
   "cell_type": "code",
   "execution_count": 2,
   "id": "e4a53242",
   "metadata": {
    "vscode": {
     "languageId": "shellscript"
    }
   },
   "outputs": [],
   "source": [
    "cd /home/admcenapa/DAVID_RENDON/TRABAJO/2025/CPA_TEST"
   ]
  }
 ],
 "metadata": {
  "kernelspec": {
   "display_name": "Bash",
   "language": "bash",
   "name": "bash"
  },
  "language_info": {
   "codemirror_mode": "shell",
   "file_extension": ".sh",
   "mimetype": "text/x-sh",
   "name": "bash"
  }
 },
 "nbformat": 4,
 "nbformat_minor": 5
}
